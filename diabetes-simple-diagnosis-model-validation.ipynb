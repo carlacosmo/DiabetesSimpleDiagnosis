{
 "cells": [
  {
   "cell_type": "code",
   "execution_count": 1,
   "id": "2c23e1e8",
   "metadata": {
    "_cell_guid": "b1076dfc-b9ad-4769-8c92-a6c4dae69d19",
    "_uuid": "8f2839f25d086af736a60e9eeb907d3b93b6e0e5",
    "execution": {
     "iopub.execute_input": "2024-03-31T15:29:43.217262Z",
     "iopub.status.busy": "2024-03-31T15:29:43.216337Z",
     "iopub.status.idle": "2024-03-31T15:29:46.925758Z",
     "shell.execute_reply": "2024-03-31T15:29:46.924328Z"
    },
    "papermill": {
     "duration": 3.732045,
     "end_time": "2024-03-31T15:29:46.928964",
     "exception": false,
     "start_time": "2024-03-31T15:29:43.196919",
     "status": "completed"
    },
    "tags": []
   },
   "outputs": [],
   "source": [
    "#importing library and packages\n",
    "import pandas as pd\n",
    "import numpy as np\n",
    "import matplotlib.pyplot as plt\n",
    "\n",
    "from sklearn.preprocessing import RobustScaler\n",
    "from sklearn.model_selection import train_test_split\n",
    "from sklearn import tree\n",
    "from sklearn.neighbors import KNeighborsClassifier\n",
    "from sklearn.linear_model import LogisticRegression\n",
    "from sklearn.metrics import accuracy_score\n",
    "\n",
    "import seaborn as sns"
   ]
  },
  {
   "cell_type": "markdown",
   "id": "81caa690",
   "metadata": {
    "papermill": {
     "duration": 0.017352,
     "end_time": "2024-03-31T15:29:46.969001",
     "exception": false,
     "start_time": "2024-03-31T15:29:46.951649",
     "status": "completed"
    },
    "tags": []
   },
   "source": [
    "# **Objective**\n",
    "> We will work with the **Diabetes Simple Diagnosis** dataset, which has information related to the patient's health as a way to predict the risk of diabetes. The objective is to **create a model that predicts if a patient has been diagnosed with diabetes or not**. "
   ]
  },
  {
   "cell_type": "code",
   "execution_count": 2,
   "id": "857d54e3",
   "metadata": {
    "execution": {
     "iopub.execute_input": "2024-03-31T15:29:47.006798Z",
     "iopub.status.busy": "2024-03-31T15:29:47.006111Z",
     "iopub.status.idle": "2024-03-31T15:29:47.219463Z",
     "shell.execute_reply": "2024-03-31T15:29:47.216966Z"
    },
    "papermill": {
     "duration": 0.236688,
     "end_time": "2024-03-31T15:29:47.222818",
     "exception": false,
     "start_time": "2024-03-31T15:29:46.986130",
     "status": "completed"
    },
    "tags": []
   },
   "outputs": [
    {
     "data": {
      "text/html": [
       "<div>\n",
       "<style scoped>\n",
       "    .dataframe tbody tr th:only-of-type {\n",
       "        vertical-align: middle;\n",
       "    }\n",
       "\n",
       "    .dataframe tbody tr th {\n",
       "        vertical-align: top;\n",
       "    }\n",
       "\n",
       "    .dataframe thead th {\n",
       "        text-align: right;\n",
       "    }\n",
       "</style>\n",
       "<table border=\"1\" class=\"dataframe\">\n",
       "  <thead>\n",
       "    <tr style=\"text-align: right;\">\n",
       "      <th></th>\n",
       "      <th>Unnamed: 0</th>\n",
       "      <th>Age</th>\n",
       "      <th>Gender</th>\n",
       "      <th>BMI</th>\n",
       "      <th>High_BP</th>\n",
       "      <th>FBS</th>\n",
       "      <th>HbA1c_level</th>\n",
       "      <th>Smoking</th>\n",
       "      <th>Diagnosis</th>\n",
       "    </tr>\n",
       "  </thead>\n",
       "  <tbody>\n",
       "    <tr>\n",
       "      <th>0</th>\n",
       "      <td>0</td>\n",
       "      <td>80</td>\n",
       "      <td>Female</td>\n",
       "      <td>25</td>\n",
       "      <td>0</td>\n",
       "      <td>140</td>\n",
       "      <td>6.6</td>\n",
       "      <td>0</td>\n",
       "      <td>0</td>\n",
       "    </tr>\n",
       "    <tr>\n",
       "      <th>1</th>\n",
       "      <td>1</td>\n",
       "      <td>54</td>\n",
       "      <td>Female</td>\n",
       "      <td>27</td>\n",
       "      <td>0</td>\n",
       "      <td>80</td>\n",
       "      <td>6.6</td>\n",
       "      <td>0</td>\n",
       "      <td>0</td>\n",
       "    </tr>\n",
       "    <tr>\n",
       "      <th>2</th>\n",
       "      <td>2</td>\n",
       "      <td>28</td>\n",
       "      <td>Male</td>\n",
       "      <td>27</td>\n",
       "      <td>0</td>\n",
       "      <td>158</td>\n",
       "      <td>5.7</td>\n",
       "      <td>0</td>\n",
       "      <td>0</td>\n",
       "    </tr>\n",
       "    <tr>\n",
       "      <th>3</th>\n",
       "      <td>3</td>\n",
       "      <td>36</td>\n",
       "      <td>Female</td>\n",
       "      <td>23</td>\n",
       "      <td>0</td>\n",
       "      <td>155</td>\n",
       "      <td>5.0</td>\n",
       "      <td>1</td>\n",
       "      <td>0</td>\n",
       "    </tr>\n",
       "    <tr>\n",
       "      <th>4</th>\n",
       "      <td>4</td>\n",
       "      <td>76</td>\n",
       "      <td>Male</td>\n",
       "      <td>20</td>\n",
       "      <td>1</td>\n",
       "      <td>155</td>\n",
       "      <td>4.8</td>\n",
       "      <td>1</td>\n",
       "      <td>0</td>\n",
       "    </tr>\n",
       "  </tbody>\n",
       "</table>\n",
       "</div>"
      ],
      "text/plain": [
       "   Unnamed: 0  Age  Gender  BMI  High_BP  FBS  HbA1c_level  Smoking  Diagnosis\n",
       "0           0   80  Female   25        0  140          6.6        0          0\n",
       "1           1   54  Female   27        0   80          6.6        0          0\n",
       "2           2   28    Male   27        0  158          5.7        0          0\n",
       "3           3   36  Female   23        0  155          5.0        1          0\n",
       "4           4   76    Male   20        1  155          4.8        1          0"
      ]
     },
     "execution_count": 2,
     "metadata": {},
     "output_type": "execute_result"
    }
   ],
   "source": [
    "#importing dataset\n",
    "df = pd.read_csv('/kaggle/input/diabetes-simple-diagnosis/Diabetes Simple Diagnosis.csv')\n",
    "df.head(5)"
   ]
  },
  {
   "cell_type": "markdown",
   "id": "8e7f1473",
   "metadata": {
    "papermill": {
     "duration": 0.017825,
     "end_time": "2024-03-31T15:29:47.260740",
     "exception": false,
     "start_time": "2024-03-31T15:29:47.242915",
     "status": "completed"
    },
    "tags": []
   },
   "source": [
    "# **Variables dataset information**\n",
    "* **Age**: Represents the age of the patient in years. Age can be a risk factor for diabetes, as the risk of diabetes increases with age.\n",
    "\n",
    "* **Gender**: Indicates the gender of the patient, which can be a factor in the prediction of diabetes. Some studies suggest that women may have a different risk than men in developing diabetes.\n",
    "\n",
    "* **Body Mass Index (BMI)**: BMI is a measure that uses a person's height and weight to determine whether they are in the normal weight, overweight, or obese category. A high BMI is associated with a higher risk of diabetes.\n",
    "\n",
    "* **High Blood Pressure (High_BP)**: An indicator of whether or not a patient suffers from high blood pressure. High blood pressure is a significant risk factor for type 2 diabetes.\n",
    "\n",
    "* **Fasting Blood Glucose (FBS)**: Represents the level of glucose in the blood after an overnight fast. Elevated fasting blood sugar levels may indicate a risk of diabetes or prediabetes.\n",
    "\n",
    "* **HbA1c (HbA1c_level)**: A measurement of the average blood sugar level over the last 2-3 months. It is an important indicator for diabetes diagnosis and management.\n",
    "\n",
    "* **Smoking**: Indicates whether the patient smokes or not. Smoking can be an additional risk factor for type 2 diabetes.\n",
    "\n",
    "* **Diagonisis**: An indicator that someone has diabetes."
   ]
  },
  {
   "cell_type": "code",
   "execution_count": 3,
   "id": "d115927b",
   "metadata": {
    "execution": {
     "iopub.execute_input": "2024-03-31T15:29:47.297936Z",
     "iopub.status.busy": "2024-03-31T15:29:47.297469Z",
     "iopub.status.idle": "2024-03-31T15:29:47.340855Z",
     "shell.execute_reply": "2024-03-31T15:29:47.339860Z"
    },
    "papermill": {
     "duration": 0.067197,
     "end_time": "2024-03-31T15:29:47.344637",
     "exception": false,
     "start_time": "2024-03-31T15:29:47.277440",
     "status": "completed"
    },
    "tags": []
   },
   "outputs": [
    {
     "name": "stdout",
     "output_type": "stream",
     "text": [
      "<class 'pandas.core.frame.DataFrame'>\n",
      "RangeIndex: 88380 entries, 0 to 88379\n",
      "Data columns (total 9 columns):\n",
      " #   Column       Non-Null Count  Dtype  \n",
      "---  ------       --------------  -----  \n",
      " 0   Unnamed: 0   88380 non-null  int64  \n",
      " 1   Age          88380 non-null  int64  \n",
      " 2   Gender       88380 non-null  object \n",
      " 3   BMI          88380 non-null  int64  \n",
      " 4   High_BP      88380 non-null  int64  \n",
      " 5   FBS          88380 non-null  int64  \n",
      " 6   HbA1c_level  88380 non-null  float64\n",
      " 7   Smoking      88380 non-null  int64  \n",
      " 8   Diagnosis    88380 non-null  int64  \n",
      "dtypes: float64(1), int64(7), object(1)\n",
      "memory usage: 6.1+ MB\n"
     ]
    }
   ],
   "source": [
    "#checking dataset information\n",
    "df.info()"
   ]
  },
  {
   "cell_type": "markdown",
   "id": "e9e16176",
   "metadata": {
    "papermill": {
     "duration": 0.016648,
     "end_time": "2024-03-31T15:29:47.381452",
     "exception": false,
     "start_time": "2024-03-31T15:29:47.364804",
     "status": "completed"
    },
    "tags": []
   },
   "source": [
    "# **Exploratory analysis**\n",
    "> In this step we will check general information about the base, the\n",
    "  types of variables, null values, size of the dataset, cardinality of the data, etc."
   ]
  },
  {
   "cell_type": "code",
   "execution_count": 4,
   "id": "54e2b753",
   "metadata": {
    "execution": {
     "iopub.execute_input": "2024-03-31T15:29:47.419345Z",
     "iopub.status.busy": "2024-03-31T15:29:47.418419Z",
     "iopub.status.idle": "2024-03-31T15:29:47.437637Z",
     "shell.execute_reply": "2024-03-31T15:29:47.436706Z"
    },
    "papermill": {
     "duration": 0.042147,
     "end_time": "2024-03-31T15:29:47.440538",
     "exception": false,
     "start_time": "2024-03-31T15:29:47.398391",
     "status": "completed"
    },
    "tags": []
   },
   "outputs": [
    {
     "data": {
      "text/html": [
       "<div>\n",
       "<style scoped>\n",
       "    .dataframe tbody tr th:only-of-type {\n",
       "        vertical-align: middle;\n",
       "    }\n",
       "\n",
       "    .dataframe tbody tr th {\n",
       "        vertical-align: top;\n",
       "    }\n",
       "\n",
       "    .dataframe thead th {\n",
       "        text-align: right;\n",
       "    }\n",
       "</style>\n",
       "<table border=\"1\" class=\"dataframe\">\n",
       "  <thead>\n",
       "    <tr style=\"text-align: right;\">\n",
       "      <th></th>\n",
       "      <th>Id</th>\n",
       "      <th>Age</th>\n",
       "      <th>Gender</th>\n",
       "      <th>BMI</th>\n",
       "      <th>High_BP</th>\n",
       "      <th>FBS</th>\n",
       "      <th>HbA1c_level</th>\n",
       "      <th>Smoking</th>\n",
       "      <th>Diagnosis</th>\n",
       "    </tr>\n",
       "  </thead>\n",
       "  <tbody>\n",
       "    <tr>\n",
       "      <th>0</th>\n",
       "      <td>0</td>\n",
       "      <td>80</td>\n",
       "      <td>Female</td>\n",
       "      <td>25</td>\n",
       "      <td>0</td>\n",
       "      <td>140</td>\n",
       "      <td>6.6</td>\n",
       "      <td>0</td>\n",
       "      <td>0</td>\n",
       "    </tr>\n",
       "    <tr>\n",
       "      <th>1</th>\n",
       "      <td>1</td>\n",
       "      <td>54</td>\n",
       "      <td>Female</td>\n",
       "      <td>27</td>\n",
       "      <td>0</td>\n",
       "      <td>80</td>\n",
       "      <td>6.6</td>\n",
       "      <td>0</td>\n",
       "      <td>0</td>\n",
       "    </tr>\n",
       "    <tr>\n",
       "      <th>2</th>\n",
       "      <td>2</td>\n",
       "      <td>28</td>\n",
       "      <td>Male</td>\n",
       "      <td>27</td>\n",
       "      <td>0</td>\n",
       "      <td>158</td>\n",
       "      <td>5.7</td>\n",
       "      <td>0</td>\n",
       "      <td>0</td>\n",
       "    </tr>\n",
       "    <tr>\n",
       "      <th>3</th>\n",
       "      <td>3</td>\n",
       "      <td>36</td>\n",
       "      <td>Female</td>\n",
       "      <td>23</td>\n",
       "      <td>0</td>\n",
       "      <td>155</td>\n",
       "      <td>5.0</td>\n",
       "      <td>1</td>\n",
       "      <td>0</td>\n",
       "    </tr>\n",
       "    <tr>\n",
       "      <th>4</th>\n",
       "      <td>4</td>\n",
       "      <td>76</td>\n",
       "      <td>Male</td>\n",
       "      <td>20</td>\n",
       "      <td>1</td>\n",
       "      <td>155</td>\n",
       "      <td>4.8</td>\n",
       "      <td>1</td>\n",
       "      <td>0</td>\n",
       "    </tr>\n",
       "  </tbody>\n",
       "</table>\n",
       "</div>"
      ],
      "text/plain": [
       "   Id  Age  Gender  BMI  High_BP  FBS  HbA1c_level  Smoking  Diagnosis\n",
       "0   0   80  Female   25        0  140          6.6        0          0\n",
       "1   1   54  Female   27        0   80          6.6        0          0\n",
       "2   2   28    Male   27        0  158          5.7        0          0\n",
       "3   3   36  Female   23        0  155          5.0        1          0\n",
       "4   4   76    Male   20        1  155          4.8        1          0"
      ]
     },
     "execution_count": 4,
     "metadata": {},
     "output_type": "execute_result"
    }
   ],
   "source": [
    "#renamig the first column\n",
    "df.rename(columns={'Unnamed: 0':'Id'}, inplace=True)\n",
    "df.head(5)"
   ]
  },
  {
   "cell_type": "code",
   "execution_count": 5,
   "id": "3c976f38",
   "metadata": {
    "execution": {
     "iopub.execute_input": "2024-03-31T15:29:47.482418Z",
     "iopub.status.busy": "2024-03-31T15:29:47.481220Z",
     "iopub.status.idle": "2024-03-31T15:29:47.492408Z",
     "shell.execute_reply": "2024-03-31T15:29:47.491360Z"
    },
    "papermill": {
     "duration": 0.035069,
     "end_time": "2024-03-31T15:29:47.496608",
     "exception": false,
     "start_time": "2024-03-31T15:29:47.461539",
     "status": "completed"
    },
    "tags": []
   },
   "outputs": [
    {
     "data": {
      "text/plain": [
       "Id               int64\n",
       "Age              int64\n",
       "Gender          object\n",
       "BMI              int64\n",
       "High_BP          int64\n",
       "FBS              int64\n",
       "HbA1c_level    float64\n",
       "Smoking          int64\n",
       "Diagnosis        int64\n",
       "dtype: object"
      ]
     },
     "execution_count": 5,
     "metadata": {},
     "output_type": "execute_result"
    }
   ],
   "source": [
    "#checking variables types\n",
    "df.dtypes"
   ]
  },
  {
   "cell_type": "code",
   "execution_count": 6,
   "id": "2ffaced1",
   "metadata": {
    "execution": {
     "iopub.execute_input": "2024-03-31T15:29:47.537866Z",
     "iopub.status.busy": "2024-03-31T15:29:47.536916Z",
     "iopub.status.idle": "2024-03-31T15:29:47.563979Z",
     "shell.execute_reply": "2024-03-31T15:29:47.562113Z"
    },
    "papermill": {
     "duration": 0.050618,
     "end_time": "2024-03-31T15:29:47.567571",
     "exception": false,
     "start_time": "2024-03-31T15:29:47.516953",
     "status": "completed"
    },
    "tags": []
   },
   "outputs": [
    {
     "data": {
      "text/plain": [
       "Id             0\n",
       "Age            0\n",
       "Gender         0\n",
       "BMI            0\n",
       "High_BP        0\n",
       "FBS            0\n",
       "HbA1c_level    0\n",
       "Smoking        0\n",
       "Diagnosis      0\n",
       "dtype: int64"
      ]
     },
     "execution_count": 6,
     "metadata": {},
     "output_type": "execute_result"
    }
   ],
   "source": [
    "#checking nulls values\n",
    "df.isnull().sum()"
   ]
  },
  {
   "cell_type": "code",
   "execution_count": 7,
   "id": "45161b36",
   "metadata": {
    "execution": {
     "iopub.execute_input": "2024-03-31T15:29:47.606068Z",
     "iopub.status.busy": "2024-03-31T15:29:47.605616Z",
     "iopub.status.idle": "2024-03-31T15:29:47.613351Z",
     "shell.execute_reply": "2024-03-31T15:29:47.612199Z"
    },
    "papermill": {
     "duration": 0.030276,
     "end_time": "2024-03-31T15:29:47.615788",
     "exception": false,
     "start_time": "2024-03-31T15:29:47.585512",
     "status": "completed"
    },
    "tags": []
   },
   "outputs": [
    {
     "data": {
      "text/plain": [
       "(88380, 9)"
      ]
     },
     "execution_count": 7,
     "metadata": {},
     "output_type": "execute_result"
    }
   ],
   "source": [
    "#checking dataset shape\n",
    "df.shape"
   ]
  },
  {
   "cell_type": "code",
   "execution_count": 8,
   "id": "28bd46dd",
   "metadata": {
    "execution": {
     "iopub.execute_input": "2024-03-31T15:29:47.655688Z",
     "iopub.status.busy": "2024-03-31T15:29:47.654880Z",
     "iopub.status.idle": "2024-03-31T15:29:47.684167Z",
     "shell.execute_reply": "2024-03-31T15:29:47.683107Z"
    },
    "papermill": {
     "duration": 0.052839,
     "end_time": "2024-03-31T15:29:47.687462",
     "exception": false,
     "start_time": "2024-03-31T15:29:47.634623",
     "status": "completed"
    },
    "tags": []
   },
   "outputs": [
    {
     "data": {
      "text/plain": [
       "Id             88380\n",
       "Age               81\n",
       "BMI               72\n",
       "HbA1c_level       27\n",
       "FBS               20\n",
       "Gender             3\n",
       "High_BP            2\n",
       "Smoking            2\n",
       "Diagnosis          2\n",
       "dtype: int64"
      ]
     },
     "execution_count": 8,
     "metadata": {},
     "output_type": "execute_result"
    }
   ],
   "source": [
    "#checking dataset cardinality\n",
    "df.nunique().sort_values(ascending=False)"
   ]
  },
  {
   "cell_type": "code",
   "execution_count": 9,
   "id": "22742847",
   "metadata": {
    "execution": {
     "iopub.execute_input": "2024-03-31T15:29:47.726875Z",
     "iopub.status.busy": "2024-03-31T15:29:47.726048Z",
     "iopub.status.idle": "2024-03-31T15:29:47.734509Z",
     "shell.execute_reply": "2024-03-31T15:29:47.733471Z"
    },
    "papermill": {
     "duration": 0.031418,
     "end_time": "2024-03-31T15:29:47.737045",
     "exception": false,
     "start_time": "2024-03-31T15:29:47.705627",
     "status": "completed"
    },
    "tags": []
   },
   "outputs": [
    {
     "data": {
      "text/plain": [
       "Index(['Gender'], dtype='object')"
      ]
     },
     "execution_count": 9,
     "metadata": {},
     "output_type": "execute_result"
    }
   ],
   "source": [
    "#checking object columns in dataset\n",
    "df.columns[df.dtypes == 'object']"
   ]
  },
  {
   "cell_type": "code",
   "execution_count": 10,
   "id": "2c519471",
   "metadata": {
    "execution": {
     "iopub.execute_input": "2024-03-31T15:29:47.777769Z",
     "iopub.status.busy": "2024-03-31T15:29:47.776979Z",
     "iopub.status.idle": "2024-03-31T15:29:47.806312Z",
     "shell.execute_reply": "2024-03-31T15:29:47.804872Z"
    },
    "papermill": {
     "duration": 0.052963,
     "end_time": "2024-03-31T15:29:47.809246",
     "exception": false,
     "start_time": "2024-03-31T15:29:47.756283",
     "status": "completed"
    },
    "tags": []
   },
   "outputs": [
    {
     "data": {
      "text/plain": [
       "Gender\n",
       "Female    51346\n",
       "Male      37016\n",
       "Other        18\n",
       "Name: count, dtype: int64"
      ]
     },
     "execution_count": 10,
     "metadata": {},
     "output_type": "execute_result"
    }
   ],
   "source": [
    "#checking values in Gender column\n",
    "df.Gender.value_counts()"
   ]
  },
  {
   "cell_type": "markdown",
   "id": "0265014e",
   "metadata": {
    "papermill": {
     "duration": 0.019052,
     "end_time": "2024-03-31T15:29:47.847167",
     "exception": false,
     "start_time": "2024-03-31T15:29:47.828115",
     "status": "completed"
    },
    "tags": []
   },
   "source": [
    "# **Data pre processing**\n",
    "> At this stage, we will deal with categorical variables, deal with numerical variables by normalizing the values. After that we define what the explanatory variable and the target variable will be."
   ]
  },
  {
   "cell_type": "code",
   "execution_count": 11,
   "id": "cdf22386",
   "metadata": {
    "execution": {
     "iopub.execute_input": "2024-03-31T15:29:47.886533Z",
     "iopub.status.busy": "2024-03-31T15:29:47.886064Z",
     "iopub.status.idle": "2024-03-31T15:29:47.911418Z",
     "shell.execute_reply": "2024-03-31T15:29:47.910010Z"
    },
    "papermill": {
     "duration": 0.048785,
     "end_time": "2024-03-31T15:29:47.914414",
     "exception": false,
     "start_time": "2024-03-31T15:29:47.865629",
     "status": "completed"
    },
    "tags": []
   },
   "outputs": [
    {
     "data": {
      "text/html": [
       "<div>\n",
       "<style scoped>\n",
       "    .dataframe tbody tr th:only-of-type {\n",
       "        vertical-align: middle;\n",
       "    }\n",
       "\n",
       "    .dataframe tbody tr th {\n",
       "        vertical-align: top;\n",
       "    }\n",
       "\n",
       "    .dataframe thead th {\n",
       "        text-align: right;\n",
       "    }\n",
       "</style>\n",
       "<table border=\"1\" class=\"dataframe\">\n",
       "  <thead>\n",
       "    <tr style=\"text-align: right;\">\n",
       "      <th></th>\n",
       "      <th>Female</th>\n",
       "      <th>Male</th>\n",
       "      <th>Other</th>\n",
       "    </tr>\n",
       "  </thead>\n",
       "  <tbody>\n",
       "    <tr>\n",
       "      <th>0</th>\n",
       "      <td>1</td>\n",
       "      <td>0</td>\n",
       "      <td>0</td>\n",
       "    </tr>\n",
       "    <tr>\n",
       "      <th>1</th>\n",
       "      <td>1</td>\n",
       "      <td>0</td>\n",
       "      <td>0</td>\n",
       "    </tr>\n",
       "    <tr>\n",
       "      <th>2</th>\n",
       "      <td>0</td>\n",
       "      <td>1</td>\n",
       "      <td>0</td>\n",
       "    </tr>\n",
       "    <tr>\n",
       "      <th>3</th>\n",
       "      <td>1</td>\n",
       "      <td>0</td>\n",
       "      <td>0</td>\n",
       "    </tr>\n",
       "    <tr>\n",
       "      <th>4</th>\n",
       "      <td>0</td>\n",
       "      <td>1</td>\n",
       "      <td>0</td>\n",
       "    </tr>\n",
       "  </tbody>\n",
       "</table>\n",
       "</div>"
      ],
      "text/plain": [
       "   Female  Male  Other\n",
       "0       1     0      0\n",
       "1       1     0      0\n",
       "2       0     1      0\n",
       "3       1     0      0\n",
       "4       0     1      0"
      ]
     },
     "execution_count": 11,
     "metadata": {},
     "output_type": "execute_result"
    }
   ],
   "source": [
    "#processing categoric variable\n",
    "df_gender = pd.get_dummies(df.Gender, dtype='int')\n",
    "df_gender.head(5)"
   ]
  },
  {
   "cell_type": "code",
   "execution_count": 12,
   "id": "2552dfdd",
   "metadata": {
    "execution": {
     "iopub.execute_input": "2024-03-31T15:29:47.954073Z",
     "iopub.status.busy": "2024-03-31T15:29:47.953624Z",
     "iopub.status.idle": "2024-03-31T15:29:47.977601Z",
     "shell.execute_reply": "2024-03-31T15:29:47.975971Z"
    },
    "papermill": {
     "duration": 0.048135,
     "end_time": "2024-03-31T15:29:47.981085",
     "exception": false,
     "start_time": "2024-03-31T15:29:47.932950",
     "status": "completed"
    },
    "tags": []
   },
   "outputs": [
    {
     "data": {
      "text/html": [
       "<div>\n",
       "<style scoped>\n",
       "    .dataframe tbody tr th:only-of-type {\n",
       "        vertical-align: middle;\n",
       "    }\n",
       "\n",
       "    .dataframe tbody tr th {\n",
       "        vertical-align: top;\n",
       "    }\n",
       "\n",
       "    .dataframe thead th {\n",
       "        text-align: right;\n",
       "    }\n",
       "</style>\n",
       "<table border=\"1\" class=\"dataframe\">\n",
       "  <thead>\n",
       "    <tr style=\"text-align: right;\">\n",
       "      <th></th>\n",
       "      <th>Id</th>\n",
       "      <th>Age</th>\n",
       "      <th>Gender</th>\n",
       "      <th>BMI</th>\n",
       "      <th>High_BP</th>\n",
       "      <th>FBS</th>\n",
       "      <th>HbA1c_level</th>\n",
       "      <th>Smoking</th>\n",
       "      <th>Diagnosis</th>\n",
       "      <th>Female</th>\n",
       "      <th>Male</th>\n",
       "      <th>Other</th>\n",
       "    </tr>\n",
       "  </thead>\n",
       "  <tbody>\n",
       "    <tr>\n",
       "      <th>0</th>\n",
       "      <td>0</td>\n",
       "      <td>80</td>\n",
       "      <td>Female</td>\n",
       "      <td>25</td>\n",
       "      <td>0</td>\n",
       "      <td>140</td>\n",
       "      <td>6.6</td>\n",
       "      <td>0</td>\n",
       "      <td>0</td>\n",
       "      <td>1</td>\n",
       "      <td>0</td>\n",
       "      <td>0</td>\n",
       "    </tr>\n",
       "    <tr>\n",
       "      <th>1</th>\n",
       "      <td>1</td>\n",
       "      <td>54</td>\n",
       "      <td>Female</td>\n",
       "      <td>27</td>\n",
       "      <td>0</td>\n",
       "      <td>80</td>\n",
       "      <td>6.6</td>\n",
       "      <td>0</td>\n",
       "      <td>0</td>\n",
       "      <td>1</td>\n",
       "      <td>0</td>\n",
       "      <td>0</td>\n",
       "    </tr>\n",
       "    <tr>\n",
       "      <th>2</th>\n",
       "      <td>2</td>\n",
       "      <td>28</td>\n",
       "      <td>Male</td>\n",
       "      <td>27</td>\n",
       "      <td>0</td>\n",
       "      <td>158</td>\n",
       "      <td>5.7</td>\n",
       "      <td>0</td>\n",
       "      <td>0</td>\n",
       "      <td>0</td>\n",
       "      <td>1</td>\n",
       "      <td>0</td>\n",
       "    </tr>\n",
       "    <tr>\n",
       "      <th>3</th>\n",
       "      <td>3</td>\n",
       "      <td>36</td>\n",
       "      <td>Female</td>\n",
       "      <td>23</td>\n",
       "      <td>0</td>\n",
       "      <td>155</td>\n",
       "      <td>5.0</td>\n",
       "      <td>1</td>\n",
       "      <td>0</td>\n",
       "      <td>1</td>\n",
       "      <td>0</td>\n",
       "      <td>0</td>\n",
       "    </tr>\n",
       "    <tr>\n",
       "      <th>4</th>\n",
       "      <td>4</td>\n",
       "      <td>76</td>\n",
       "      <td>Male</td>\n",
       "      <td>20</td>\n",
       "      <td>1</td>\n",
       "      <td>155</td>\n",
       "      <td>4.8</td>\n",
       "      <td>1</td>\n",
       "      <td>0</td>\n",
       "      <td>0</td>\n",
       "      <td>1</td>\n",
       "      <td>0</td>\n",
       "    </tr>\n",
       "  </tbody>\n",
       "</table>\n",
       "</div>"
      ],
      "text/plain": [
       "   Id  Age  Gender  BMI  High_BP  FBS  HbA1c_level  Smoking  Diagnosis  \\\n",
       "0   0   80  Female   25        0  140          6.6        0          0   \n",
       "1   1   54  Female   27        0   80          6.6        0          0   \n",
       "2   2   28    Male   27        0  158          5.7        0          0   \n",
       "3   3   36  Female   23        0  155          5.0        1          0   \n",
       "4   4   76    Male   20        1  155          4.8        1          0   \n",
       "\n",
       "   Female  Male  Other  \n",
       "0       1     0      0  \n",
       "1       1     0      0  \n",
       "2       0     1      0  \n",
       "3       1     0      0  \n",
       "4       0     1      0  "
      ]
     },
     "execution_count": 12,
     "metadata": {},
     "output_type": "execute_result"
    }
   ],
   "source": [
    "#concatenating the result\n",
    "df = pd.concat([df, df_gender], axis=1)\n",
    "df.head(5)"
   ]
  },
  {
   "cell_type": "code",
   "execution_count": 13,
   "id": "4cf624da",
   "metadata": {
    "execution": {
     "iopub.execute_input": "2024-03-31T15:29:48.024169Z",
     "iopub.status.busy": "2024-03-31T15:29:48.023716Z",
     "iopub.status.idle": "2024-03-31T15:29:48.064588Z",
     "shell.execute_reply": "2024-03-31T15:29:48.062911Z"
    },
    "papermill": {
     "duration": 0.06675,
     "end_time": "2024-03-31T15:29:48.067298",
     "exception": false,
     "start_time": "2024-03-31T15:29:48.000548",
     "status": "completed"
    },
    "tags": []
   },
   "outputs": [
    {
     "data": {
      "text/plain": [
       "Gender  Female  Male  Other\n",
       "Female  1       0     0        51346\n",
       "Male    0       1     0        37016\n",
       "Other   0       0     1           18\n",
       "Name: count, dtype: int64"
      ]
     },
     "execution_count": 13,
     "metadata": {},
     "output_type": "execute_result"
    }
   ],
   "source": [
    "#checking result\n",
    "df[['Gender','Female','Male','Other']].value_counts()"
   ]
  },
  {
   "cell_type": "code",
   "execution_count": 14,
   "id": "0d7b1272",
   "metadata": {
    "execution": {
     "iopub.execute_input": "2024-03-31T15:29:48.107762Z",
     "iopub.status.busy": "2024-03-31T15:29:48.107208Z",
     "iopub.status.idle": "2024-03-31T15:29:48.136611Z",
     "shell.execute_reply": "2024-03-31T15:29:48.134764Z"
    },
    "papermill": {
     "duration": 0.053265,
     "end_time": "2024-03-31T15:29:48.139914",
     "exception": false,
     "start_time": "2024-03-31T15:29:48.086649",
     "status": "completed"
    },
    "tags": []
   },
   "outputs": [],
   "source": [
    "#creating the scaler\n",
    "transformer = RobustScaler().fit(df[['Age','BMI','FBS','HbA1c_level']])"
   ]
  },
  {
   "cell_type": "code",
   "execution_count": 15,
   "id": "c1583751",
   "metadata": {
    "execution": {
     "iopub.execute_input": "2024-03-31T15:29:48.180850Z",
     "iopub.status.busy": "2024-03-31T15:29:48.179454Z",
     "iopub.status.idle": "2024-03-31T15:29:48.198093Z",
     "shell.execute_reply": "2024-03-31T15:29:48.196975Z"
    },
    "papermill": {
     "duration": 0.042712,
     "end_time": "2024-03-31T15:29:48.201319",
     "exception": false,
     "start_time": "2024-03-31T15:29:48.158607",
     "status": "completed"
    },
    "tags": []
   },
   "outputs": [],
   "source": [
    "#applying the transformation\n",
    "df[['Age_scaler','BMI_scaler','FBS_scaler','HbA1c_level_scaler']] = transformer.transform(df[['Age','BMI','FBS','HbA1c_level']])"
   ]
  },
  {
   "cell_type": "code",
   "execution_count": 16,
   "id": "7c163b0e",
   "metadata": {
    "execution": {
     "iopub.execute_input": "2024-03-31T15:29:48.243293Z",
     "iopub.status.busy": "2024-03-31T15:29:48.242382Z",
     "iopub.status.idle": "2024-03-31T15:29:48.263156Z",
     "shell.execute_reply": "2024-03-31T15:29:48.261219Z"
    },
    "papermill": {
     "duration": 0.045571,
     "end_time": "2024-03-31T15:29:48.266331",
     "exception": false,
     "start_time": "2024-03-31T15:29:48.220760",
     "status": "completed"
    },
    "tags": []
   },
   "outputs": [
    {
     "data": {
      "text/html": [
       "<div>\n",
       "<style scoped>\n",
       "    .dataframe tbody tr th:only-of-type {\n",
       "        vertical-align: middle;\n",
       "    }\n",
       "\n",
       "    .dataframe tbody tr th {\n",
       "        vertical-align: top;\n",
       "    }\n",
       "\n",
       "    .dataframe thead th {\n",
       "        text-align: right;\n",
       "    }\n",
       "</style>\n",
       "<table border=\"1\" class=\"dataframe\">\n",
       "  <thead>\n",
       "    <tr style=\"text-align: right;\">\n",
       "      <th></th>\n",
       "      <th>Id</th>\n",
       "      <th>Age</th>\n",
       "      <th>Gender</th>\n",
       "      <th>BMI</th>\n",
       "      <th>High_BP</th>\n",
       "      <th>FBS</th>\n",
       "      <th>HbA1c_level</th>\n",
       "      <th>Smoking</th>\n",
       "      <th>Diagnosis</th>\n",
       "      <th>Female</th>\n",
       "      <th>Male</th>\n",
       "      <th>Other</th>\n",
       "      <th>Age_scaler</th>\n",
       "      <th>BMI_scaler</th>\n",
       "      <th>FBS_scaler</th>\n",
       "      <th>HbA1c_level_scaler</th>\n",
       "    </tr>\n",
       "  </thead>\n",
       "  <tbody>\n",
       "    <tr>\n",
       "      <th>0</th>\n",
       "      <td>0</td>\n",
       "      <td>80</td>\n",
       "      <td>Female</td>\n",
       "      <td>25</td>\n",
       "      <td>0</td>\n",
       "      <td>140</td>\n",
       "      <td>6.6</td>\n",
       "      <td>0</td>\n",
       "      <td>0</td>\n",
       "      <td>1</td>\n",
       "      <td>0</td>\n",
       "      <td>0</td>\n",
       "      <td>1.027778</td>\n",
       "      <td>-0.285714</td>\n",
       "      <td>0.000000</td>\n",
       "      <td>0.571429</td>\n",
       "    </tr>\n",
       "    <tr>\n",
       "      <th>1</th>\n",
       "      <td>1</td>\n",
       "      <td>54</td>\n",
       "      <td>Female</td>\n",
       "      <td>27</td>\n",
       "      <td>0</td>\n",
       "      <td>80</td>\n",
       "      <td>6.6</td>\n",
       "      <td>0</td>\n",
       "      <td>0</td>\n",
       "      <td>1</td>\n",
       "      <td>0</td>\n",
       "      <td>0</td>\n",
       "      <td>0.305556</td>\n",
       "      <td>0.000000</td>\n",
       "      <td>-1.016949</td>\n",
       "      <td>0.571429</td>\n",
       "    </tr>\n",
       "    <tr>\n",
       "      <th>2</th>\n",
       "      <td>2</td>\n",
       "      <td>28</td>\n",
       "      <td>Male</td>\n",
       "      <td>27</td>\n",
       "      <td>0</td>\n",
       "      <td>158</td>\n",
       "      <td>5.7</td>\n",
       "      <td>0</td>\n",
       "      <td>0</td>\n",
       "      <td>0</td>\n",
       "      <td>1</td>\n",
       "      <td>0</td>\n",
       "      <td>-0.416667</td>\n",
       "      <td>0.000000</td>\n",
       "      <td>0.305085</td>\n",
       "      <td>-0.071429</td>\n",
       "    </tr>\n",
       "    <tr>\n",
       "      <th>3</th>\n",
       "      <td>3</td>\n",
       "      <td>36</td>\n",
       "      <td>Female</td>\n",
       "      <td>23</td>\n",
       "      <td>0</td>\n",
       "      <td>155</td>\n",
       "      <td>5.0</td>\n",
       "      <td>1</td>\n",
       "      <td>0</td>\n",
       "      <td>1</td>\n",
       "      <td>0</td>\n",
       "      <td>0</td>\n",
       "      <td>-0.194444</td>\n",
       "      <td>-0.571429</td>\n",
       "      <td>0.254237</td>\n",
       "      <td>-0.571429</td>\n",
       "    </tr>\n",
       "    <tr>\n",
       "      <th>4</th>\n",
       "      <td>4</td>\n",
       "      <td>76</td>\n",
       "      <td>Male</td>\n",
       "      <td>20</td>\n",
       "      <td>1</td>\n",
       "      <td>155</td>\n",
       "      <td>4.8</td>\n",
       "      <td>1</td>\n",
       "      <td>0</td>\n",
       "      <td>0</td>\n",
       "      <td>1</td>\n",
       "      <td>0</td>\n",
       "      <td>0.916667</td>\n",
       "      <td>-1.000000</td>\n",
       "      <td>0.254237</td>\n",
       "      <td>-0.714286</td>\n",
       "    </tr>\n",
       "  </tbody>\n",
       "</table>\n",
       "</div>"
      ],
      "text/plain": [
       "   Id  Age  Gender  BMI  High_BP  FBS  HbA1c_level  Smoking  Diagnosis  \\\n",
       "0   0   80  Female   25        0  140          6.6        0          0   \n",
       "1   1   54  Female   27        0   80          6.6        0          0   \n",
       "2   2   28    Male   27        0  158          5.7        0          0   \n",
       "3   3   36  Female   23        0  155          5.0        1          0   \n",
       "4   4   76    Male   20        1  155          4.8        1          0   \n",
       "\n",
       "   Female  Male  Other  Age_scaler  BMI_scaler  FBS_scaler  HbA1c_level_scaler  \n",
       "0       1     0      0    1.027778   -0.285714    0.000000            0.571429  \n",
       "1       1     0      0    0.305556    0.000000   -1.016949            0.571429  \n",
       "2       0     1      0   -0.416667    0.000000    0.305085           -0.071429  \n",
       "3       1     0      0   -0.194444   -0.571429    0.254237           -0.571429  \n",
       "4       0     1      0    0.916667   -1.000000    0.254237           -0.714286  "
      ]
     },
     "execution_count": 16,
     "metadata": {},
     "output_type": "execute_result"
    }
   ],
   "source": [
    "#viewing the dataset after all transformations\n",
    "df.head(5)"
   ]
  },
  {
   "cell_type": "code",
   "execution_count": 17,
   "id": "15dc5833",
   "metadata": {
    "execution": {
     "iopub.execute_input": "2024-03-31T15:29:48.310695Z",
     "iopub.status.busy": "2024-03-31T15:29:48.310266Z",
     "iopub.status.idle": "2024-03-31T15:29:48.330204Z",
     "shell.execute_reply": "2024-03-31T15:29:48.328490Z"
    },
    "papermill": {
     "duration": 0.047627,
     "end_time": "2024-03-31T15:29:48.333607",
     "exception": false,
     "start_time": "2024-03-31T15:29:48.285980",
     "status": "completed"
    },
    "tags": []
   },
   "outputs": [
    {
     "data": {
      "text/html": [
       "<div>\n",
       "<style scoped>\n",
       "    .dataframe tbody tr th:only-of-type {\n",
       "        vertical-align: middle;\n",
       "    }\n",
       "\n",
       "    .dataframe tbody tr th {\n",
       "        vertical-align: top;\n",
       "    }\n",
       "\n",
       "    .dataframe thead th {\n",
       "        text-align: right;\n",
       "    }\n",
       "</style>\n",
       "<table border=\"1\" class=\"dataframe\">\n",
       "  <thead>\n",
       "    <tr style=\"text-align: right;\">\n",
       "      <th></th>\n",
       "      <th>High_BP</th>\n",
       "      <th>Smoking</th>\n",
       "      <th>Female</th>\n",
       "      <th>Male</th>\n",
       "      <th>Other</th>\n",
       "      <th>Age_scaler</th>\n",
       "      <th>BMI_scaler</th>\n",
       "      <th>FBS_scaler</th>\n",
       "      <th>HbA1c_level_scaler</th>\n",
       "    </tr>\n",
       "  </thead>\n",
       "  <tbody>\n",
       "    <tr>\n",
       "      <th>0</th>\n",
       "      <td>0</td>\n",
       "      <td>0</td>\n",
       "      <td>1</td>\n",
       "      <td>0</td>\n",
       "      <td>0</td>\n",
       "      <td>1.027778</td>\n",
       "      <td>-0.285714</td>\n",
       "      <td>0.000000</td>\n",
       "      <td>0.571429</td>\n",
       "    </tr>\n",
       "    <tr>\n",
       "      <th>1</th>\n",
       "      <td>0</td>\n",
       "      <td>0</td>\n",
       "      <td>1</td>\n",
       "      <td>0</td>\n",
       "      <td>0</td>\n",
       "      <td>0.305556</td>\n",
       "      <td>0.000000</td>\n",
       "      <td>-1.016949</td>\n",
       "      <td>0.571429</td>\n",
       "    </tr>\n",
       "    <tr>\n",
       "      <th>2</th>\n",
       "      <td>0</td>\n",
       "      <td>0</td>\n",
       "      <td>0</td>\n",
       "      <td>1</td>\n",
       "      <td>0</td>\n",
       "      <td>-0.416667</td>\n",
       "      <td>0.000000</td>\n",
       "      <td>0.305085</td>\n",
       "      <td>-0.071429</td>\n",
       "    </tr>\n",
       "    <tr>\n",
       "      <th>3</th>\n",
       "      <td>0</td>\n",
       "      <td>1</td>\n",
       "      <td>1</td>\n",
       "      <td>0</td>\n",
       "      <td>0</td>\n",
       "      <td>-0.194444</td>\n",
       "      <td>-0.571429</td>\n",
       "      <td>0.254237</td>\n",
       "      <td>-0.571429</td>\n",
       "    </tr>\n",
       "    <tr>\n",
       "      <th>4</th>\n",
       "      <td>1</td>\n",
       "      <td>1</td>\n",
       "      <td>0</td>\n",
       "      <td>1</td>\n",
       "      <td>0</td>\n",
       "      <td>0.916667</td>\n",
       "      <td>-1.000000</td>\n",
       "      <td>0.254237</td>\n",
       "      <td>-0.714286</td>\n",
       "    </tr>\n",
       "  </tbody>\n",
       "</table>\n",
       "</div>"
      ],
      "text/plain": [
       "   High_BP  Smoking  Female  Male  Other  Age_scaler  BMI_scaler  FBS_scaler  \\\n",
       "0        0        0       1     0      0    1.027778   -0.285714    0.000000   \n",
       "1        0        0       1     0      0    0.305556    0.000000   -1.016949   \n",
       "2        0        0       0     1      0   -0.416667    0.000000    0.305085   \n",
       "3        0        1       1     0      0   -0.194444   -0.571429    0.254237   \n",
       "4        1        1       0     1      0    0.916667   -1.000000    0.254237   \n",
       "\n",
       "   HbA1c_level_scaler  \n",
       "0            0.571429  \n",
       "1            0.571429  \n",
       "2           -0.071429  \n",
       "3           -0.571429  \n",
       "4           -0.714286  "
      ]
     },
     "execution_count": 17,
     "metadata": {},
     "output_type": "execute_result"
    }
   ],
   "source": [
    "#creating an explanatory variable\n",
    "X = df.drop(['Id','Gender','Age','BMI','FBS','HbA1c_level','Diagnosis'], axis=1)\n",
    "X.head(5)"
   ]
  },
  {
   "cell_type": "code",
   "execution_count": 18,
   "id": "f3c2d300",
   "metadata": {
    "execution": {
     "iopub.execute_input": "2024-03-31T15:29:48.378008Z",
     "iopub.status.busy": "2024-03-31T15:29:48.377614Z",
     "iopub.status.idle": "2024-03-31T15:29:48.387002Z",
     "shell.execute_reply": "2024-03-31T15:29:48.385553Z"
    },
    "papermill": {
     "duration": 0.035309,
     "end_time": "2024-03-31T15:29:48.390000",
     "exception": false,
     "start_time": "2024-03-31T15:29:48.354691",
     "status": "completed"
    },
    "tags": []
   },
   "outputs": [
    {
     "data": {
      "text/plain": [
       "0    0\n",
       "1    0\n",
       "2    0\n",
       "3    0\n",
       "4    0\n",
       "Name: Diagnosis, dtype: int64"
      ]
     },
     "execution_count": 18,
     "metadata": {},
     "output_type": "execute_result"
    }
   ],
   "source": [
    "#creating a response variable\n",
    "y = df.Diagnosis\n",
    "y.head(5)"
   ]
  },
  {
   "cell_type": "markdown",
   "id": "9bd07249",
   "metadata": {
    "papermill": {
     "duration": 0.020442,
     "end_time": "2024-03-31T15:29:48.531399",
     "exception": false,
     "start_time": "2024-03-31T15:29:48.510957",
     "status": "completed"
    },
    "tags": []
   },
   "source": [
    "# **Training model**\n",
    "> In this other stage, we will begin developing the model. First, we divided our dataset into training, validation and testing. Then we create our classifiers and train our model on the training data. After that, we validate it on the validation data."
   ]
  },
  {
   "cell_type": "code",
   "execution_count": 19,
   "id": "93d8ab6f",
   "metadata": {
    "execution": {
     "iopub.execute_input": "2024-03-31T15:29:48.577545Z",
     "iopub.status.busy": "2024-03-31T15:29:48.577100Z",
     "iopub.status.idle": "2024-03-31T15:29:48.605512Z",
     "shell.execute_reply": "2024-03-31T15:29:48.604111Z"
    },
    "papermill": {
     "duration": 0.056088,
     "end_time": "2024-03-31T15:29:48.609151",
     "exception": false,
     "start_time": "2024-03-31T15:29:48.553063",
     "status": "completed"
    },
    "tags": []
   },
   "outputs": [],
   "source": [
    "#separating the dataset in training and test\n",
    "X_train, X_test, y_train, y_test = train_test_split(X, y, test_size=0.2, random_state=42)"
   ]
  },
  {
   "cell_type": "code",
   "execution_count": 20,
   "id": "88208970",
   "metadata": {
    "execution": {
     "iopub.execute_input": "2024-03-31T15:29:48.657352Z",
     "iopub.status.busy": "2024-03-31T15:29:48.655859Z",
     "iopub.status.idle": "2024-03-31T15:29:48.677818Z",
     "shell.execute_reply": "2024-03-31T15:29:48.676941Z"
    },
    "papermill": {
     "duration": 0.049483,
     "end_time": "2024-03-31T15:29:48.681025",
     "exception": false,
     "start_time": "2024-03-31T15:29:48.631542",
     "status": "completed"
    },
    "tags": []
   },
   "outputs": [],
   "source": [
    "#separating the dataset in training and validation\n",
    "X_train, X_val, y_train, y_val = train_test_split(X_train, y_train, test_size=0.2, random_state=42)"
   ]
  },
  {
   "cell_type": "code",
   "execution_count": 21,
   "id": "4fe2ae7f",
   "metadata": {
    "execution": {
     "iopub.execute_input": "2024-03-31T15:29:48.727035Z",
     "iopub.status.busy": "2024-03-31T15:29:48.725535Z",
     "iopub.status.idle": "2024-03-31T15:29:48.732525Z",
     "shell.execute_reply": "2024-03-31T15:29:48.731175Z"
    },
    "papermill": {
     "duration": 0.033174,
     "end_time": "2024-03-31T15:29:48.735341",
     "exception": false,
     "start_time": "2024-03-31T15:29:48.702167",
     "status": "completed"
    },
    "tags": []
   },
   "outputs": [],
   "source": [
    "##creating the classifier decision tree, knn, logistic regression\n",
    "clf_dt = tree.DecisionTreeClassifier(random_state=42)\n",
    "clf_knn = KNeighborsClassifier(n_neighbors=3)\n",
    "clf_lr = LogisticRegression(random_state=42, max_iter=1000)"
   ]
  },
  {
   "cell_type": "code",
   "execution_count": 22,
   "id": "76eb694c",
   "metadata": {
    "execution": {
     "iopub.execute_input": "2024-03-31T15:29:48.781660Z",
     "iopub.status.busy": "2024-03-31T15:29:48.780889Z",
     "iopub.status.idle": "2024-03-31T15:29:49.360983Z",
     "shell.execute_reply": "2024-03-31T15:29:49.359369Z"
    },
    "papermill": {
     "duration": 0.608063,
     "end_time": "2024-03-31T15:29:49.365546",
     "exception": false,
     "start_time": "2024-03-31T15:29:48.757483",
     "status": "completed"
    },
    "tags": []
   },
   "outputs": [],
   "source": [
    "#fitting the train data\n",
    "clf_dt_temp = clf_dt.fit(X_train, y_train)\n",
    "clf_knn_temp = clf_knn.fit(X_train, y_train)\n",
    "clf_lr_temp = clf_lr.fit(X_train, y_train)"
   ]
  },
  {
   "cell_type": "code",
   "execution_count": 23,
   "id": "ce0ef5e9",
   "metadata": {
    "execution": {
     "iopub.execute_input": "2024-03-31T15:29:49.453059Z",
     "iopub.status.busy": "2024-03-31T15:29:49.452377Z",
     "iopub.status.idle": "2024-03-31T15:29:50.834491Z",
     "shell.execute_reply": "2024-03-31T15:29:50.832870Z"
    },
    "papermill": {
     "duration": 1.430588,
     "end_time": "2024-03-31T15:29:50.838813",
     "exception": false,
     "start_time": "2024-03-31T15:29:49.408225",
     "status": "completed"
    },
    "tags": []
   },
   "outputs": [],
   "source": [
    "#predicting the validation data\n",
    "y_pred_dt = clf_dt_temp.predict(X_val)\n",
    "y_pred_knn = clf_knn_temp.predict(X_val)\n",
    "y_pred_lr = clf_lr_temp.predict(X_val)"
   ]
  },
  {
   "cell_type": "code",
   "execution_count": 24,
   "id": "31522b41",
   "metadata": {
    "execution": {
     "iopub.execute_input": "2024-03-31T15:29:50.928828Z",
     "iopub.status.busy": "2024-03-31T15:29:50.928162Z",
     "iopub.status.idle": "2024-03-31T15:29:50.951684Z",
     "shell.execute_reply": "2024-03-31T15:29:50.950540Z"
    },
    "papermill": {
     "duration": 0.071043,
     "end_time": "2024-03-31T15:29:50.954641",
     "exception": false,
     "start_time": "2024-03-31T15:29:50.883598",
     "status": "completed"
    },
    "tags": []
   },
   "outputs": [
    {
     "data": {
      "text/plain": [
       "(0.9410225585177852, 0.9550951134997525, 0.953822219079273)"
      ]
     },
     "execution_count": 24,
     "metadata": {},
     "output_type": "execute_result"
    }
   ],
   "source": [
    "#checking the accuracy of predictions\n",
    "accuracy_score_dt = accuracy_score(y_val, y_pred_dt)\n",
    "accuracy_score_knn = accuracy_score(y_val, y_pred_knn)\n",
    "accuracy_score_lr = accuracy_score(y_val, y_pred_lr)\n",
    "\n",
    "accuracy_score_dt, accuracy_score_knn, accuracy_score_lr"
   ]
  },
  {
   "cell_type": "markdown",
   "id": "59c2ed29",
   "metadata": {
    "papermill": {
     "duration": 0.019606,
     "end_time": "2024-03-31T15:29:50.995695",
     "exception": false,
     "start_time": "2024-03-31T15:29:50.976089",
     "status": "completed"
    },
    "tags": []
   },
   "source": [
    "# **Analyzing results**\n",
    "> We validated the 3 models and the one that showed the best results was KNN, with an accuracy of 95.5%. The others were not so far from this result."
   ]
  },
  {
   "cell_type": "code",
   "execution_count": 25,
   "id": "6e25b094",
   "metadata": {
    "execution": {
     "iopub.execute_input": "2024-03-31T15:29:51.038783Z",
     "iopub.status.busy": "2024-03-31T15:29:51.038415Z",
     "iopub.status.idle": "2024-03-31T15:29:51.051572Z",
     "shell.execute_reply": "2024-03-31T15:29:51.049994Z"
    },
    "papermill": {
     "duration": 0.037293,
     "end_time": "2024-03-31T15:29:51.054309",
     "exception": false,
     "start_time": "2024-03-31T15:29:51.017016",
     "status": "completed"
    },
    "tags": []
   },
   "outputs": [
    {
     "data": {
      "text/html": [
       "<div>\n",
       "<style scoped>\n",
       "    .dataframe tbody tr th:only-of-type {\n",
       "        vertical-align: middle;\n",
       "    }\n",
       "\n",
       "    .dataframe tbody tr th {\n",
       "        vertical-align: top;\n",
       "    }\n",
       "\n",
       "    .dataframe thead th {\n",
       "        text-align: right;\n",
       "    }\n",
       "</style>\n",
       "<table border=\"1\" class=\"dataframe\">\n",
       "  <thead>\n",
       "    <tr style=\"text-align: right;\">\n",
       "      <th></th>\n",
       "      <th>Models</th>\n",
       "      <th>Initial</th>\n",
       "    </tr>\n",
       "  </thead>\n",
       "  <tbody>\n",
       "    <tr>\n",
       "      <th>0</th>\n",
       "      <td>DecisionTree</td>\n",
       "      <td>0.941023</td>\n",
       "    </tr>\n",
       "    <tr>\n",
       "      <th>1</th>\n",
       "      <td>KNN</td>\n",
       "      <td>0.955095</td>\n",
       "    </tr>\n",
       "    <tr>\n",
       "      <th>2</th>\n",
       "      <td>LogisticRegression</td>\n",
       "      <td>0.953822</td>\n",
       "    </tr>\n",
       "  </tbody>\n",
       "</table>\n",
       "</div>"
      ],
      "text/plain": [
       "               Models   Initial\n",
       "0        DecisionTree  0.941023\n",
       "1                 KNN  0.955095\n",
       "2  LogisticRegression  0.953822"
      ]
     },
     "execution_count": 25,
     "metadata": {},
     "output_type": "execute_result"
    }
   ],
   "source": [
    "#creating a dataframe to display the results\n",
    "df_result = pd.DataFrame({\n",
    "    'Models': ['DecisionTree','KNN', 'LogisticRegression'],\n",
    "    'Initial': [accuracy_score_dt, accuracy_score_knn, accuracy_score_lr]\n",
    "})\n",
    "df_result"
   ]
  },
  {
   "cell_type": "markdown",
   "id": "bceed510",
   "metadata": {
    "papermill": {
     "duration": 0.020208,
     "end_time": "2024-03-31T15:29:51.095731",
     "exception": false,
     "start_time": "2024-03-31T15:29:51.075523",
     "status": "completed"
    },
    "tags": []
   },
   "source": [
    "# **New exploratory analysis**\n",
    "> However, although our result was not bad, we will try to improve it, we will analyze our database again and see if we can make any changes that improve the performance of our models."
   ]
  },
  {
   "cell_type": "code",
   "execution_count": 26,
   "id": "944fc445",
   "metadata": {
    "execution": {
     "iopub.execute_input": "2024-03-31T15:29:51.139387Z",
     "iopub.status.busy": "2024-03-31T15:29:51.138882Z",
     "iopub.status.idle": "2024-03-31T15:29:51.160936Z",
     "shell.execute_reply": "2024-03-31T15:29:51.159620Z"
    },
    "papermill": {
     "duration": 0.046512,
     "end_time": "2024-03-31T15:29:51.163699",
     "exception": false,
     "start_time": "2024-03-31T15:29:51.117187",
     "status": "completed"
    },
    "tags": []
   },
   "outputs": [
    {
     "data": {
      "text/html": [
       "<div>\n",
       "<style scoped>\n",
       "    .dataframe tbody tr th:only-of-type {\n",
       "        vertical-align: middle;\n",
       "    }\n",
       "\n",
       "    .dataframe tbody tr th {\n",
       "        vertical-align: top;\n",
       "    }\n",
       "\n",
       "    .dataframe thead th {\n",
       "        text-align: right;\n",
       "    }\n",
       "</style>\n",
       "<table border=\"1\" class=\"dataframe\">\n",
       "  <thead>\n",
       "    <tr style=\"text-align: right;\">\n",
       "      <th></th>\n",
       "      <th>Id</th>\n",
       "      <th>Age</th>\n",
       "      <th>Gender</th>\n",
       "      <th>BMI</th>\n",
       "      <th>High_BP</th>\n",
       "      <th>FBS</th>\n",
       "      <th>HbA1c_level</th>\n",
       "      <th>Smoking</th>\n",
       "      <th>Diagnosis</th>\n",
       "      <th>Female</th>\n",
       "      <th>Male</th>\n",
       "      <th>Other</th>\n",
       "      <th>Age_scaler</th>\n",
       "      <th>BMI_scaler</th>\n",
       "      <th>FBS_scaler</th>\n",
       "      <th>HbA1c_level_scaler</th>\n",
       "    </tr>\n",
       "  </thead>\n",
       "  <tbody>\n",
       "    <tr>\n",
       "      <th>0</th>\n",
       "      <td>0</td>\n",
       "      <td>80</td>\n",
       "      <td>Female</td>\n",
       "      <td>25</td>\n",
       "      <td>0</td>\n",
       "      <td>140</td>\n",
       "      <td>6.6</td>\n",
       "      <td>0</td>\n",
       "      <td>0</td>\n",
       "      <td>1</td>\n",
       "      <td>0</td>\n",
       "      <td>0</td>\n",
       "      <td>1.027778</td>\n",
       "      <td>-0.285714</td>\n",
       "      <td>0.000000</td>\n",
       "      <td>0.571429</td>\n",
       "    </tr>\n",
       "    <tr>\n",
       "      <th>1</th>\n",
       "      <td>1</td>\n",
       "      <td>54</td>\n",
       "      <td>Female</td>\n",
       "      <td>27</td>\n",
       "      <td>0</td>\n",
       "      <td>80</td>\n",
       "      <td>6.6</td>\n",
       "      <td>0</td>\n",
       "      <td>0</td>\n",
       "      <td>1</td>\n",
       "      <td>0</td>\n",
       "      <td>0</td>\n",
       "      <td>0.305556</td>\n",
       "      <td>0.000000</td>\n",
       "      <td>-1.016949</td>\n",
       "      <td>0.571429</td>\n",
       "    </tr>\n",
       "    <tr>\n",
       "      <th>2</th>\n",
       "      <td>2</td>\n",
       "      <td>28</td>\n",
       "      <td>Male</td>\n",
       "      <td>27</td>\n",
       "      <td>0</td>\n",
       "      <td>158</td>\n",
       "      <td>5.7</td>\n",
       "      <td>0</td>\n",
       "      <td>0</td>\n",
       "      <td>0</td>\n",
       "      <td>1</td>\n",
       "      <td>0</td>\n",
       "      <td>-0.416667</td>\n",
       "      <td>0.000000</td>\n",
       "      <td>0.305085</td>\n",
       "      <td>-0.071429</td>\n",
       "    </tr>\n",
       "    <tr>\n",
       "      <th>3</th>\n",
       "      <td>3</td>\n",
       "      <td>36</td>\n",
       "      <td>Female</td>\n",
       "      <td>23</td>\n",
       "      <td>0</td>\n",
       "      <td>155</td>\n",
       "      <td>5.0</td>\n",
       "      <td>1</td>\n",
       "      <td>0</td>\n",
       "      <td>1</td>\n",
       "      <td>0</td>\n",
       "      <td>0</td>\n",
       "      <td>-0.194444</td>\n",
       "      <td>-0.571429</td>\n",
       "      <td>0.254237</td>\n",
       "      <td>-0.571429</td>\n",
       "    </tr>\n",
       "    <tr>\n",
       "      <th>4</th>\n",
       "      <td>4</td>\n",
       "      <td>76</td>\n",
       "      <td>Male</td>\n",
       "      <td>20</td>\n",
       "      <td>1</td>\n",
       "      <td>155</td>\n",
       "      <td>4.8</td>\n",
       "      <td>1</td>\n",
       "      <td>0</td>\n",
       "      <td>0</td>\n",
       "      <td>1</td>\n",
       "      <td>0</td>\n",
       "      <td>0.916667</td>\n",
       "      <td>-1.000000</td>\n",
       "      <td>0.254237</td>\n",
       "      <td>-0.714286</td>\n",
       "    </tr>\n",
       "  </tbody>\n",
       "</table>\n",
       "</div>"
      ],
      "text/plain": [
       "   Id  Age  Gender  BMI  High_BP  FBS  HbA1c_level  Smoking  Diagnosis  \\\n",
       "0   0   80  Female   25        0  140          6.6        0          0   \n",
       "1   1   54  Female   27        0   80          6.6        0          0   \n",
       "2   2   28    Male   27        0  158          5.7        0          0   \n",
       "3   3   36  Female   23        0  155          5.0        1          0   \n",
       "4   4   76    Male   20        1  155          4.8        1          0   \n",
       "\n",
       "   Female  Male  Other  Age_scaler  BMI_scaler  FBS_scaler  HbA1c_level_scaler  \n",
       "0       1     0      0    1.027778   -0.285714    0.000000            0.571429  \n",
       "1       1     0      0    0.305556    0.000000   -1.016949            0.571429  \n",
       "2       0     1      0   -0.416667    0.000000    0.305085           -0.071429  \n",
       "3       1     0      0   -0.194444   -0.571429    0.254237           -0.571429  \n",
       "4       0     1      0    0.916667   -1.000000    0.254237           -0.714286  "
      ]
     },
     "execution_count": 26,
     "metadata": {},
     "output_type": "execute_result"
    }
   ],
   "source": [
    "#viewing the current dataframe\n",
    "df.head(5)"
   ]
  },
  {
   "cell_type": "code",
   "execution_count": 27,
   "id": "50b0ad64",
   "metadata": {
    "execution": {
     "iopub.execute_input": "2024-03-31T15:29:51.210000Z",
     "iopub.status.busy": "2024-03-31T15:29:51.209056Z",
     "iopub.status.idle": "2024-03-31T15:29:51.231763Z",
     "shell.execute_reply": "2024-03-31T15:29:51.230572Z"
    },
    "papermill": {
     "duration": 0.048408,
     "end_time": "2024-03-31T15:29:51.234388",
     "exception": false,
     "start_time": "2024-03-31T15:29:51.185980",
     "status": "completed"
    },
    "tags": []
   },
   "outputs": [
    {
     "data": {
      "text/html": [
       "<div>\n",
       "<style scoped>\n",
       "    .dataframe tbody tr th:only-of-type {\n",
       "        vertical-align: middle;\n",
       "    }\n",
       "\n",
       "    .dataframe tbody tr th {\n",
       "        vertical-align: top;\n",
       "    }\n",
       "\n",
       "    .dataframe thead th {\n",
       "        text-align: right;\n",
       "    }\n",
       "</style>\n",
       "<table border=\"1\" class=\"dataframe\">\n",
       "  <thead>\n",
       "    <tr style=\"text-align: right;\">\n",
       "      <th></th>\n",
       "      <th>Age</th>\n",
       "      <th>sum</th>\n",
       "      <th>count</th>\n",
       "      <th>mean</th>\n",
       "    </tr>\n",
       "  </thead>\n",
       "  <tbody>\n",
       "    <tr>\n",
       "      <th>0</th>\n",
       "      <td>0</td>\n",
       "      <td>0</td>\n",
       "      <td>774</td>\n",
       "      <td>0.000000</td>\n",
       "    </tr>\n",
       "    <tr>\n",
       "      <th>1</th>\n",
       "      <td>1</td>\n",
       "      <td>0</td>\n",
       "      <td>979</td>\n",
       "      <td>0.000000</td>\n",
       "    </tr>\n",
       "    <tr>\n",
       "      <th>2</th>\n",
       "      <td>2</td>\n",
       "      <td>0</td>\n",
       "      <td>965</td>\n",
       "      <td>0.000000</td>\n",
       "    </tr>\n",
       "    <tr>\n",
       "      <th>3</th>\n",
       "      <td>3</td>\n",
       "      <td>1</td>\n",
       "      <td>853</td>\n",
       "      <td>0.001172</td>\n",
       "    </tr>\n",
       "    <tr>\n",
       "      <th>4</th>\n",
       "      <td>4</td>\n",
       "      <td>6</td>\n",
       "      <td>792</td>\n",
       "      <td>0.007576</td>\n",
       "    </tr>\n",
       "    <tr>\n",
       "      <th>...</th>\n",
       "      <td>...</td>\n",
       "      <td>...</td>\n",
       "      <td>...</td>\n",
       "      <td>...</td>\n",
       "    </tr>\n",
       "    <tr>\n",
       "      <th>76</th>\n",
       "      <td>76</td>\n",
       "      <td>147</td>\n",
       "      <td>702</td>\n",
       "      <td>0.209402</td>\n",
       "    </tr>\n",
       "    <tr>\n",
       "      <th>77</th>\n",
       "      <td>77</td>\n",
       "      <td>135</td>\n",
       "      <td>700</td>\n",
       "      <td>0.192857</td>\n",
       "    </tr>\n",
       "    <tr>\n",
       "      <th>78</th>\n",
       "      <td>78</td>\n",
       "      <td>135</td>\n",
       "      <td>655</td>\n",
       "      <td>0.206107</td>\n",
       "    </tr>\n",
       "    <tr>\n",
       "      <th>79</th>\n",
       "      <td>79</td>\n",
       "      <td>140</td>\n",
       "      <td>581</td>\n",
       "      <td>0.240964</td>\n",
       "    </tr>\n",
       "    <tr>\n",
       "      <th>80</th>\n",
       "      <td>80</td>\n",
       "      <td>966</td>\n",
       "      <td>4109</td>\n",
       "      <td>0.235094</td>\n",
       "    </tr>\n",
       "  </tbody>\n",
       "</table>\n",
       "<p>81 rows × 4 columns</p>\n",
       "</div>"
      ],
      "text/plain": [
       "    Age  sum  count      mean\n",
       "0     0    0    774  0.000000\n",
       "1     1    0    979  0.000000\n",
       "2     2    0    965  0.000000\n",
       "3     3    1    853  0.001172\n",
       "4     4    6    792  0.007576\n",
       "..  ...  ...    ...       ...\n",
       "76   76  147    702  0.209402\n",
       "77   77  135    700  0.192857\n",
       "78   78  135    655  0.206107\n",
       "79   79  140    581  0.240964\n",
       "80   80  966   4109  0.235094\n",
       "\n",
       "[81 rows x 4 columns]"
      ]
     },
     "execution_count": 27,
     "metadata": {},
     "output_type": "execute_result"
    }
   ],
   "source": [
    "#analyzing the relation between the age variable and the target variable\n",
    "df.groupby('Age')['Diagnosis'].agg(['sum','count','mean']).reset_index()"
   ]
  },
  {
   "cell_type": "code",
   "execution_count": 28,
   "id": "81d935da",
   "metadata": {
    "execution": {
     "iopub.execute_input": "2024-03-31T15:29:51.279228Z",
     "iopub.status.busy": "2024-03-31T15:29:51.278508Z",
     "iopub.status.idle": "2024-03-31T15:29:51.297653Z",
     "shell.execute_reply": "2024-03-31T15:29:51.296455Z"
    },
    "papermill": {
     "duration": 0.044328,
     "end_time": "2024-03-31T15:29:51.300221",
     "exception": false,
     "start_time": "2024-03-31T15:29:51.255893",
     "status": "completed"
    },
    "tags": []
   },
   "outputs": [
    {
     "data": {
      "text/html": [
       "<div>\n",
       "<style scoped>\n",
       "    .dataframe tbody tr th:only-of-type {\n",
       "        vertical-align: middle;\n",
       "    }\n",
       "\n",
       "    .dataframe tbody tr th {\n",
       "        vertical-align: top;\n",
       "    }\n",
       "\n",
       "    .dataframe thead th {\n",
       "        text-align: right;\n",
       "    }\n",
       "</style>\n",
       "<table border=\"1\" class=\"dataframe\">\n",
       "  <thead>\n",
       "    <tr style=\"text-align: right;\">\n",
       "      <th></th>\n",
       "      <th>Age</th>\n",
       "      <th>Diagnosis</th>\n",
       "    </tr>\n",
       "  </thead>\n",
       "  <tbody>\n",
       "    <tr>\n",
       "      <th>Age</th>\n",
       "      <td>1.000000</td>\n",
       "      <td>0.270918</td>\n",
       "    </tr>\n",
       "    <tr>\n",
       "      <th>Diagnosis</th>\n",
       "      <td>0.270918</td>\n",
       "      <td>1.000000</td>\n",
       "    </tr>\n",
       "  </tbody>\n",
       "</table>\n",
       "</div>"
      ],
      "text/plain": [
       "                Age  Diagnosis\n",
       "Age        1.000000   0.270918\n",
       "Diagnosis  0.270918   1.000000"
      ]
     },
     "execution_count": 28,
     "metadata": {},
     "output_type": "execute_result"
    }
   ],
   "source": [
    "#checking the correlation\n",
    "df[['Age','Diagnosis']].corr()"
   ]
  },
  {
   "cell_type": "markdown",
   "id": "9cdd65a9",
   "metadata": {
    "papermill": {
     "duration": 0.021109,
     "end_time": "2024-03-31T15:29:51.344845",
     "exception": false,
     "start_time": "2024-03-31T15:29:51.323736",
     "status": "completed"
    },
    "tags": []
   },
   "source": [
    "* children:  < 12\n",
    "* teenagers: 12 > 19\n",
    "* young adult: 19 > 30\n",
    "* adult: 30 > 60\n",
    "* young elderly: 60 > 80\n",
    "* elderly: 80 > 110\n"
   ]
  },
  {
   "cell_type": "code",
   "execution_count": 29,
   "id": "21fc605e",
   "metadata": {
    "execution": {
     "iopub.execute_input": "2024-03-31T15:29:51.390374Z",
     "iopub.status.busy": "2024-03-31T15:29:51.389541Z",
     "iopub.status.idle": "2024-03-31T15:29:51.396936Z",
     "shell.execute_reply": "2024-03-31T15:29:51.395668Z"
    },
    "papermill": {
     "duration": 0.033699,
     "end_time": "2024-03-31T15:29:51.399620",
     "exception": false,
     "start_time": "2024-03-31T15:29:51.365921",
     "status": "completed"
    },
    "tags": []
   },
   "outputs": [],
   "source": [
    "# condition to create categories according to age\n",
    "def condition(x):\n",
    "    if x <= 12:\n",
    "        return 0#'children'\n",
    "    elif 12 < x <= 19:\n",
    "        return 1#'teenager'\n",
    "    elif 19 < x <= 29:\n",
    "        return 2#'young adult'\n",
    "    elif 30 < x <= 59:\n",
    "        return 3#'adult'\n",
    "    elif 60 < x <=80:\n",
    "        return 4#'young elderly'\n",
    "    else:\n",
    "        return 5#'elderly'"
   ]
  },
  {
   "cell_type": "code",
   "execution_count": 30,
   "id": "d92d343a",
   "metadata": {
    "execution": {
     "iopub.execute_input": "2024-03-31T15:29:51.444458Z",
     "iopub.status.busy": "2024-03-31T15:29:51.443998Z",
     "iopub.status.idle": "2024-03-31T15:29:51.568309Z",
     "shell.execute_reply": "2024-03-31T15:29:51.566915Z"
    },
    "papermill": {
     "duration": 0.150496,
     "end_time": "2024-03-31T15:29:51.571465",
     "exception": false,
     "start_time": "2024-03-31T15:29:51.420969",
     "status": "completed"
    },
    "tags": []
   },
   "outputs": [
    {
     "data": {
      "text/html": [
       "<div>\n",
       "<style scoped>\n",
       "    .dataframe tbody tr th:only-of-type {\n",
       "        vertical-align: middle;\n",
       "    }\n",
       "\n",
       "    .dataframe tbody tr th {\n",
       "        vertical-align: top;\n",
       "    }\n",
       "\n",
       "    .dataframe thead th {\n",
       "        text-align: right;\n",
       "    }\n",
       "</style>\n",
       "<table border=\"1\" class=\"dataframe\">\n",
       "  <thead>\n",
       "    <tr style=\"text-align: right;\">\n",
       "      <th></th>\n",
       "      <th>Id</th>\n",
       "      <th>Age</th>\n",
       "      <th>Gender</th>\n",
       "      <th>BMI</th>\n",
       "      <th>High_BP</th>\n",
       "      <th>FBS</th>\n",
       "      <th>HbA1c_level</th>\n",
       "      <th>Smoking</th>\n",
       "      <th>Diagnosis</th>\n",
       "      <th>Female</th>\n",
       "      <th>Male</th>\n",
       "      <th>Other</th>\n",
       "      <th>Age_scaler</th>\n",
       "      <th>BMI_scaler</th>\n",
       "      <th>FBS_scaler</th>\n",
       "      <th>HbA1c_level_scaler</th>\n",
       "      <th>Age_range</th>\n",
       "    </tr>\n",
       "  </thead>\n",
       "  <tbody>\n",
       "    <tr>\n",
       "      <th>0</th>\n",
       "      <td>0</td>\n",
       "      <td>80</td>\n",
       "      <td>Female</td>\n",
       "      <td>25</td>\n",
       "      <td>0</td>\n",
       "      <td>140</td>\n",
       "      <td>6.6</td>\n",
       "      <td>0</td>\n",
       "      <td>0</td>\n",
       "      <td>1</td>\n",
       "      <td>0</td>\n",
       "      <td>0</td>\n",
       "      <td>1.027778</td>\n",
       "      <td>-0.285714</td>\n",
       "      <td>0.000000</td>\n",
       "      <td>0.571429</td>\n",
       "      <td>4</td>\n",
       "    </tr>\n",
       "    <tr>\n",
       "      <th>1</th>\n",
       "      <td>1</td>\n",
       "      <td>54</td>\n",
       "      <td>Female</td>\n",
       "      <td>27</td>\n",
       "      <td>0</td>\n",
       "      <td>80</td>\n",
       "      <td>6.6</td>\n",
       "      <td>0</td>\n",
       "      <td>0</td>\n",
       "      <td>1</td>\n",
       "      <td>0</td>\n",
       "      <td>0</td>\n",
       "      <td>0.305556</td>\n",
       "      <td>0.000000</td>\n",
       "      <td>-1.016949</td>\n",
       "      <td>0.571429</td>\n",
       "      <td>3</td>\n",
       "    </tr>\n",
       "    <tr>\n",
       "      <th>2</th>\n",
       "      <td>2</td>\n",
       "      <td>28</td>\n",
       "      <td>Male</td>\n",
       "      <td>27</td>\n",
       "      <td>0</td>\n",
       "      <td>158</td>\n",
       "      <td>5.7</td>\n",
       "      <td>0</td>\n",
       "      <td>0</td>\n",
       "      <td>0</td>\n",
       "      <td>1</td>\n",
       "      <td>0</td>\n",
       "      <td>-0.416667</td>\n",
       "      <td>0.000000</td>\n",
       "      <td>0.305085</td>\n",
       "      <td>-0.071429</td>\n",
       "      <td>2</td>\n",
       "    </tr>\n",
       "    <tr>\n",
       "      <th>3</th>\n",
       "      <td>3</td>\n",
       "      <td>36</td>\n",
       "      <td>Female</td>\n",
       "      <td>23</td>\n",
       "      <td>0</td>\n",
       "      <td>155</td>\n",
       "      <td>5.0</td>\n",
       "      <td>1</td>\n",
       "      <td>0</td>\n",
       "      <td>1</td>\n",
       "      <td>0</td>\n",
       "      <td>0</td>\n",
       "      <td>-0.194444</td>\n",
       "      <td>-0.571429</td>\n",
       "      <td>0.254237</td>\n",
       "      <td>-0.571429</td>\n",
       "      <td>3</td>\n",
       "    </tr>\n",
       "    <tr>\n",
       "      <th>4</th>\n",
       "      <td>4</td>\n",
       "      <td>76</td>\n",
       "      <td>Male</td>\n",
       "      <td>20</td>\n",
       "      <td>1</td>\n",
       "      <td>155</td>\n",
       "      <td>4.8</td>\n",
       "      <td>1</td>\n",
       "      <td>0</td>\n",
       "      <td>0</td>\n",
       "      <td>1</td>\n",
       "      <td>0</td>\n",
       "      <td>0.916667</td>\n",
       "      <td>-1.000000</td>\n",
       "      <td>0.254237</td>\n",
       "      <td>-0.714286</td>\n",
       "      <td>4</td>\n",
       "    </tr>\n",
       "    <tr>\n",
       "      <th>...</th>\n",
       "      <td>...</td>\n",
       "      <td>...</td>\n",
       "      <td>...</td>\n",
       "      <td>...</td>\n",
       "      <td>...</td>\n",
       "      <td>...</td>\n",
       "      <td>...</td>\n",
       "      <td>...</td>\n",
       "      <td>...</td>\n",
       "      <td>...</td>\n",
       "      <td>...</td>\n",
       "      <td>...</td>\n",
       "      <td>...</td>\n",
       "      <td>...</td>\n",
       "      <td>...</td>\n",
       "      <td>...</td>\n",
       "      <td>...</td>\n",
       "    </tr>\n",
       "    <tr>\n",
       "      <th>88375</th>\n",
       "      <td>88375</td>\n",
       "      <td>17</td>\n",
       "      <td>Female</td>\n",
       "      <td>15</td>\n",
       "      <td>0</td>\n",
       "      <td>100</td>\n",
       "      <td>5.7</td>\n",
       "      <td>1</td>\n",
       "      <td>1</td>\n",
       "      <td>1</td>\n",
       "      <td>0</td>\n",
       "      <td>0</td>\n",
       "      <td>-0.722222</td>\n",
       "      <td>-1.714286</td>\n",
       "      <td>-0.677966</td>\n",
       "      <td>-0.071429</td>\n",
       "      <td>1</td>\n",
       "    </tr>\n",
       "    <tr>\n",
       "      <th>88376</th>\n",
       "      <td>88376</td>\n",
       "      <td>22</td>\n",
       "      <td>Male</td>\n",
       "      <td>19</td>\n",
       "      <td>0</td>\n",
       "      <td>120</td>\n",
       "      <td>6.4</td>\n",
       "      <td>1</td>\n",
       "      <td>1</td>\n",
       "      <td>0</td>\n",
       "      <td>1</td>\n",
       "      <td>0</td>\n",
       "      <td>-0.583333</td>\n",
       "      <td>-1.142857</td>\n",
       "      <td>-0.338983</td>\n",
       "      <td>0.428571</td>\n",
       "      <td>2</td>\n",
       "    </tr>\n",
       "    <tr>\n",
       "      <th>88377</th>\n",
       "      <td>88377</td>\n",
       "      <td>27</td>\n",
       "      <td>Female</td>\n",
       "      <td>24</td>\n",
       "      <td>1</td>\n",
       "      <td>140</td>\n",
       "      <td>7.1</td>\n",
       "      <td>1</td>\n",
       "      <td>1</td>\n",
       "      <td>1</td>\n",
       "      <td>0</td>\n",
       "      <td>0</td>\n",
       "      <td>-0.444444</td>\n",
       "      <td>-0.428571</td>\n",
       "      <td>0.000000</td>\n",
       "      <td>0.928571</td>\n",
       "      <td>2</td>\n",
       "    </tr>\n",
       "    <tr>\n",
       "      <th>88378</th>\n",
       "      <td>88378</td>\n",
       "      <td>32</td>\n",
       "      <td>Male</td>\n",
       "      <td>29</td>\n",
       "      <td>1</td>\n",
       "      <td>160</td>\n",
       "      <td>7.8</td>\n",
       "      <td>1</td>\n",
       "      <td>1</td>\n",
       "      <td>0</td>\n",
       "      <td>1</td>\n",
       "      <td>0</td>\n",
       "      <td>-0.305556</td>\n",
       "      <td>0.285714</td>\n",
       "      <td>0.338983</td>\n",
       "      <td>1.428571</td>\n",
       "      <td>3</td>\n",
       "    </tr>\n",
       "    <tr>\n",
       "      <th>88379</th>\n",
       "      <td>88379</td>\n",
       "      <td>37</td>\n",
       "      <td>Female</td>\n",
       "      <td>34</td>\n",
       "      <td>1</td>\n",
       "      <td>180</td>\n",
       "      <td>8.5</td>\n",
       "      <td>1</td>\n",
       "      <td>1</td>\n",
       "      <td>1</td>\n",
       "      <td>0</td>\n",
       "      <td>0</td>\n",
       "      <td>-0.166667</td>\n",
       "      <td>1.000000</td>\n",
       "      <td>0.677966</td>\n",
       "      <td>1.928571</td>\n",
       "      <td>3</td>\n",
       "    </tr>\n",
       "  </tbody>\n",
       "</table>\n",
       "<p>88380 rows × 17 columns</p>\n",
       "</div>"
      ],
      "text/plain": [
       "          Id  Age  Gender  BMI  High_BP  FBS  HbA1c_level  Smoking  Diagnosis  \\\n",
       "0          0   80  Female   25        0  140          6.6        0          0   \n",
       "1          1   54  Female   27        0   80          6.6        0          0   \n",
       "2          2   28    Male   27        0  158          5.7        0          0   \n",
       "3          3   36  Female   23        0  155          5.0        1          0   \n",
       "4          4   76    Male   20        1  155          4.8        1          0   \n",
       "...      ...  ...     ...  ...      ...  ...          ...      ...        ...   \n",
       "88375  88375   17  Female   15        0  100          5.7        1          1   \n",
       "88376  88376   22    Male   19        0  120          6.4        1          1   \n",
       "88377  88377   27  Female   24        1  140          7.1        1          1   \n",
       "88378  88378   32    Male   29        1  160          7.8        1          1   \n",
       "88379  88379   37  Female   34        1  180          8.5        1          1   \n",
       "\n",
       "       Female  Male  Other  Age_scaler  BMI_scaler  FBS_scaler  \\\n",
       "0           1     0      0    1.027778   -0.285714    0.000000   \n",
       "1           1     0      0    0.305556    0.000000   -1.016949   \n",
       "2           0     1      0   -0.416667    0.000000    0.305085   \n",
       "3           1     0      0   -0.194444   -0.571429    0.254237   \n",
       "4           0     1      0    0.916667   -1.000000    0.254237   \n",
       "...       ...   ...    ...         ...         ...         ...   \n",
       "88375       1     0      0   -0.722222   -1.714286   -0.677966   \n",
       "88376       0     1      0   -0.583333   -1.142857   -0.338983   \n",
       "88377       1     0      0   -0.444444   -0.428571    0.000000   \n",
       "88378       0     1      0   -0.305556    0.285714    0.338983   \n",
       "88379       1     0      0   -0.166667    1.000000    0.677966   \n",
       "\n",
       "       HbA1c_level_scaler  Age_range  \n",
       "0                0.571429          4  \n",
       "1                0.571429          3  \n",
       "2               -0.071429          2  \n",
       "3               -0.571429          3  \n",
       "4               -0.714286          4  \n",
       "...                   ...        ...  \n",
       "88375           -0.071429          1  \n",
       "88376            0.428571          2  \n",
       "88377            0.928571          2  \n",
       "88378            1.428571          3  \n",
       "88379            1.928571          3  \n",
       "\n",
       "[88380 rows x 17 columns]"
      ]
     },
     "execution_count": 30,
     "metadata": {},
     "output_type": "execute_result"
    }
   ],
   "source": [
    "#applying the condition\n",
    "df['Age_range'] = df['Age'].apply(condition)\n",
    "df"
   ]
  },
  {
   "cell_type": "code",
   "execution_count": 31,
   "id": "217d6e6a",
   "metadata": {
    "execution": {
     "iopub.execute_input": "2024-03-31T15:29:51.618570Z",
     "iopub.status.busy": "2024-03-31T15:29:51.618147Z",
     "iopub.status.idle": "2024-03-31T15:29:51.637427Z",
     "shell.execute_reply": "2024-03-31T15:29:51.636509Z"
    },
    "papermill": {
     "duration": 0.045477,
     "end_time": "2024-03-31T15:29:51.639944",
     "exception": false,
     "start_time": "2024-03-31T15:29:51.594467",
     "status": "completed"
    },
    "tags": []
   },
   "outputs": [
    {
     "data": {
      "text/html": [
       "<div>\n",
       "<style scoped>\n",
       "    .dataframe tbody tr th:only-of-type {\n",
       "        vertical-align: middle;\n",
       "    }\n",
       "\n",
       "    .dataframe tbody tr th {\n",
       "        vertical-align: top;\n",
       "    }\n",
       "\n",
       "    .dataframe thead th {\n",
       "        text-align: right;\n",
       "    }\n",
       "</style>\n",
       "<table border=\"1\" class=\"dataframe\">\n",
       "  <thead>\n",
       "    <tr style=\"text-align: right;\">\n",
       "      <th></th>\n",
       "      <th>High_BP</th>\n",
       "      <th>Smoking</th>\n",
       "      <th>Female</th>\n",
       "      <th>Male</th>\n",
       "      <th>Other</th>\n",
       "      <th>BMI_scaler</th>\n",
       "      <th>FBS_scaler</th>\n",
       "      <th>HbA1c_level_scaler</th>\n",
       "      <th>Age_range</th>\n",
       "    </tr>\n",
       "  </thead>\n",
       "  <tbody>\n",
       "    <tr>\n",
       "      <th>0</th>\n",
       "      <td>0</td>\n",
       "      <td>0</td>\n",
       "      <td>1</td>\n",
       "      <td>0</td>\n",
       "      <td>0</td>\n",
       "      <td>-0.285714</td>\n",
       "      <td>0.000000</td>\n",
       "      <td>0.571429</td>\n",
       "      <td>4</td>\n",
       "    </tr>\n",
       "    <tr>\n",
       "      <th>1</th>\n",
       "      <td>0</td>\n",
       "      <td>0</td>\n",
       "      <td>1</td>\n",
       "      <td>0</td>\n",
       "      <td>0</td>\n",
       "      <td>0.000000</td>\n",
       "      <td>-1.016949</td>\n",
       "      <td>0.571429</td>\n",
       "      <td>3</td>\n",
       "    </tr>\n",
       "    <tr>\n",
       "      <th>2</th>\n",
       "      <td>0</td>\n",
       "      <td>0</td>\n",
       "      <td>0</td>\n",
       "      <td>1</td>\n",
       "      <td>0</td>\n",
       "      <td>0.000000</td>\n",
       "      <td>0.305085</td>\n",
       "      <td>-0.071429</td>\n",
       "      <td>2</td>\n",
       "    </tr>\n",
       "    <tr>\n",
       "      <th>3</th>\n",
       "      <td>0</td>\n",
       "      <td>1</td>\n",
       "      <td>1</td>\n",
       "      <td>0</td>\n",
       "      <td>0</td>\n",
       "      <td>-0.571429</td>\n",
       "      <td>0.254237</td>\n",
       "      <td>-0.571429</td>\n",
       "      <td>3</td>\n",
       "    </tr>\n",
       "    <tr>\n",
       "      <th>4</th>\n",
       "      <td>1</td>\n",
       "      <td>1</td>\n",
       "      <td>0</td>\n",
       "      <td>1</td>\n",
       "      <td>0</td>\n",
       "      <td>-1.000000</td>\n",
       "      <td>0.254237</td>\n",
       "      <td>-0.714286</td>\n",
       "      <td>4</td>\n",
       "    </tr>\n",
       "  </tbody>\n",
       "</table>\n",
       "</div>"
      ],
      "text/plain": [
       "   High_BP  Smoking  Female  Male  Other  BMI_scaler  FBS_scaler  \\\n",
       "0        0        0       1     0      0   -0.285714    0.000000   \n",
       "1        0        0       1     0      0    0.000000   -1.016949   \n",
       "2        0        0       0     1      0    0.000000    0.305085   \n",
       "3        0        1       1     0      0   -0.571429    0.254237   \n",
       "4        1        1       0     1      0   -1.000000    0.254237   \n",
       "\n",
       "   HbA1c_level_scaler  Age_range  \n",
       "0            0.571429          4  \n",
       "1            0.571429          3  \n",
       "2           -0.071429          2  \n",
       "3           -0.571429          3  \n",
       "4           -0.714286          4  "
      ]
     },
     "execution_count": 31,
     "metadata": {},
     "output_type": "execute_result"
    }
   ],
   "source": [
    "#creating an explanatory variable\n",
    "X = df.drop(['Id','Gender','Age','Age_scaler','BMI','FBS','HbA1c_level','Diagnosis'], axis=1)\n",
    "\n",
    "#creating a response variable\n",
    "y = df.Diagnosis\n",
    "\n",
    "X.head(5)"
   ]
  },
  {
   "cell_type": "markdown",
   "id": "b0689a1f",
   "metadata": {
    "papermill": {
     "duration": 0.02191,
     "end_time": "2024-03-31T15:29:51.683654",
     "exception": false,
     "start_time": "2024-03-31T15:29:51.661744",
     "status": "completed"
    },
    "tags": []
   },
   "source": [
    "# **New training model**\n",
    "> We will follow the same previous step but with the new changes in our dataset.Split the dataset, train the model, validate and analyze the results."
   ]
  },
  {
   "cell_type": "code",
   "execution_count": 32,
   "id": "857589e0",
   "metadata": {
    "execution": {
     "iopub.execute_input": "2024-03-31T15:29:51.729906Z",
     "iopub.status.busy": "2024-03-31T15:29:51.729184Z",
     "iopub.status.idle": "2024-03-31T15:29:53.809428Z",
     "shell.execute_reply": "2024-03-31T15:29:53.807690Z"
    },
    "papermill": {
     "duration": 2.10918,
     "end_time": "2024-03-31T15:29:53.814527",
     "exception": false,
     "start_time": "2024-03-31T15:29:51.705347",
     "status": "completed"
    },
    "tags": []
   },
   "outputs": [
    {
     "name": "stdout",
     "output_type": "stream",
     "text": [
      "0.9516300120217807 0.9523371755887137 0.9523371755887137\n"
     ]
    }
   ],
   "source": [
    "\n",
    "#separating the dataset in training and test\n",
    "X_train, X_test, y_train, y_test = train_test_split(X, y, test_size=0.2, random_state=42)\n",
    "\n",
    "#separating the dataset in training and validation\n",
    "X_train, X_val, y_train, y_val = train_test_split(X_train, y_train, test_size=0.2, random_state=42)\n",
    "\n",
    "#fitting the train data\n",
    "clf_dt_temp = clf_dt.fit(X_train, y_train)\n",
    "clf_knn_temp = clf_knn.fit(X_train, y_train)\n",
    "clf_lr_temp = clf_lr.fit(X_train, y_train)\n",
    "\n",
    "#predicting the validation data\n",
    "y_pred_dt = clf_dt_temp.predict(X_val)\n",
    "y_pred_knn = clf_knn_temp.predict(X_val)\n",
    "y_pred_lr = clf_lr_temp.predict(X_val)\n",
    "\n",
    "#checking the accuracy of predictions\n",
    "accuracy_score_dt = accuracy_score(y_val, y_pred_dt)\n",
    "accuracy_score_knn = accuracy_score(y_val, y_pred_knn)\n",
    "accuracy_score_lr = accuracy_score(y_val, y_pred_lr)\n",
    "\n",
    "print(accuracy_score_dt, accuracy_score_knn, accuracy_score_lr)\n",
    "    "
   ]
  },
  {
   "cell_type": "markdown",
   "id": "43d18c42",
   "metadata": {
    "papermill": {
     "duration": 0.047965,
     "end_time": "2024-03-31T15:29:53.912144",
     "exception": false,
     "start_time": "2024-03-31T15:29:53.864179",
     "status": "completed"
    },
    "tags": []
   },
   "source": [
    "# **Analyzing results 2**\n",
    "> We had a small worsening in the KNN and Logistic Regression results, and an improvement in the Decision Tree results. Therefore, the new changes were not very effective for our overall result."
   ]
  },
  {
   "cell_type": "code",
   "execution_count": 33,
   "id": "45e3f984",
   "metadata": {
    "execution": {
     "iopub.execute_input": "2024-03-31T15:29:53.960275Z",
     "iopub.status.busy": "2024-03-31T15:29:53.959763Z",
     "iopub.status.idle": "2024-03-31T15:29:53.972888Z",
     "shell.execute_reply": "2024-03-31T15:29:53.971691Z"
    },
    "papermill": {
     "duration": 0.040231,
     "end_time": "2024-03-31T15:29:53.975746",
     "exception": false,
     "start_time": "2024-03-31T15:29:53.935515",
     "status": "completed"
    },
    "tags": []
   },
   "outputs": [
    {
     "data": {
      "text/html": [
       "<div>\n",
       "<style scoped>\n",
       "    .dataframe tbody tr th:only-of-type {\n",
       "        vertical-align: middle;\n",
       "    }\n",
       "\n",
       "    .dataframe tbody tr th {\n",
       "        vertical-align: top;\n",
       "    }\n",
       "\n",
       "    .dataframe thead th {\n",
       "        text-align: right;\n",
       "    }\n",
       "</style>\n",
       "<table border=\"1\" class=\"dataframe\">\n",
       "  <thead>\n",
       "    <tr style=\"text-align: right;\">\n",
       "      <th></th>\n",
       "      <th>Models</th>\n",
       "      <th>Initial</th>\n",
       "      <th>Age_range</th>\n",
       "    </tr>\n",
       "  </thead>\n",
       "  <tbody>\n",
       "    <tr>\n",
       "      <th>0</th>\n",
       "      <td>DecisionTree</td>\n",
       "      <td>0.941023</td>\n",
       "      <td>0.951630</td>\n",
       "    </tr>\n",
       "    <tr>\n",
       "      <th>1</th>\n",
       "      <td>KNN</td>\n",
       "      <td>0.955095</td>\n",
       "      <td>0.952337</td>\n",
       "    </tr>\n",
       "    <tr>\n",
       "      <th>2</th>\n",
       "      <td>LogisticRegression</td>\n",
       "      <td>0.953822</td>\n",
       "      <td>0.952337</td>\n",
       "    </tr>\n",
       "  </tbody>\n",
       "</table>\n",
       "</div>"
      ],
      "text/plain": [
       "               Models   Initial  Age_range\n",
       "0        DecisionTree  0.941023   0.951630\n",
       "1                 KNN  0.955095   0.952337\n",
       "2  LogisticRegression  0.953822   0.952337"
      ]
     },
     "execution_count": 33,
     "metadata": {},
     "output_type": "execute_result"
    }
   ],
   "source": [
    "#adding predicted values to the result dataset\n",
    "df_result['Age_range'] = [accuracy_score_dt, accuracy_score_knn, accuracy_score_lr]\n",
    "df_result"
   ]
  },
  {
   "cell_type": "markdown",
   "id": "71152e92",
   "metadata": {
    "papermill": {
     "duration": 0.022985,
     "end_time": "2024-03-31T15:29:54.021871",
     "exception": false,
     "start_time": "2024-03-31T15:29:53.998886",
     "status": "completed"
    },
    "tags": []
   },
   "source": [
    "# **New exploratory analysis again**\n",
    "> Again, we will analyze our dataset to identify opportunities"
   ]
  },
  {
   "cell_type": "code",
   "execution_count": 34,
   "id": "6b8101b3",
   "metadata": {
    "execution": {
     "iopub.execute_input": "2024-03-31T15:29:54.074175Z",
     "iopub.status.busy": "2024-03-31T15:29:54.073390Z",
     "iopub.status.idle": "2024-03-31T15:29:54.565281Z",
     "shell.execute_reply": "2024-03-31T15:29:54.563713Z"
    },
    "papermill": {
     "duration": 0.522335,
     "end_time": "2024-03-31T15:29:54.568806",
     "exception": false,
     "start_time": "2024-03-31T15:29:54.046471",
     "status": "completed"
    },
    "tags": []
   },
   "outputs": [
    {
     "data": {
      "image/png": "[encoded data removed]",
      "text/plain": [
       "<Figure size 1000x500 with 2 Axes>"
      ]
     },
     "metadata": {},
     "output_type": "display_data"
    }
   ],
   "source": [
    "#checking the correlation of the main variables\n",
    "corr = df[['BMI', 'High_BP', 'FBS', 'HbA1c_level',\n",
    "           'Smoking', 'Diagnosis']].corr()\n",
    "\n",
    "fig, ax = plt.subplots(figsize=(10,5))\n",
    "\n",
    "sns.heatmap(corr, annot=True, fmt='.2f')\n",
    "\n",
    "plt.show()"
   ]
  },
  {
   "cell_type": "code",
   "execution_count": 35,
   "id": "11ec6b2b",
   "metadata": {
    "execution": {
     "iopub.execute_input": "2024-03-31T15:29:54.619959Z",
     "iopub.status.busy": "2024-03-31T15:29:54.619473Z",
     "iopub.status.idle": "2024-03-31T15:29:54.643028Z",
     "shell.execute_reply": "2024-03-31T15:29:54.641625Z"
    },
    "papermill": {
     "duration": 0.053569,
     "end_time": "2024-03-31T15:29:54.646200",
     "exception": false,
     "start_time": "2024-03-31T15:29:54.592631",
     "status": "completed"
    },
    "tags": []
   },
   "outputs": [
    {
     "data": {
      "text/html": [
       "<div>\n",
       "<style scoped>\n",
       "    .dataframe tbody tr th:only-of-type {\n",
       "        vertical-align: middle;\n",
       "    }\n",
       "\n",
       "    .dataframe tbody tr th {\n",
       "        vertical-align: top;\n",
       "    }\n",
       "\n",
       "    .dataframe thead th {\n",
       "        text-align: right;\n",
       "    }\n",
       "</style>\n",
       "<table border=\"1\" class=\"dataframe\">\n",
       "  <thead>\n",
       "    <tr style=\"text-align: right;\">\n",
       "      <th></th>\n",
       "      <th>BMI</th>\n",
       "      <th>sum</th>\n",
       "      <th>count</th>\n",
       "      <th>mean</th>\n",
       "    </tr>\n",
       "  </thead>\n",
       "  <tbody>\n",
       "    <tr>\n",
       "      <th>0</th>\n",
       "      <td>10</td>\n",
       "      <td>2</td>\n",
       "      <td>28</td>\n",
       "      <td>0.071429</td>\n",
       "    </tr>\n",
       "    <tr>\n",
       "      <th>1</th>\n",
       "      <td>11</td>\n",
       "      <td>3</td>\n",
       "      <td>57</td>\n",
       "      <td>0.052632</td>\n",
       "    </tr>\n",
       "    <tr>\n",
       "      <th>2</th>\n",
       "      <td>12</td>\n",
       "      <td>1</td>\n",
       "      <td>116</td>\n",
       "      <td>0.008621</td>\n",
       "    </tr>\n",
       "    <tr>\n",
       "      <th>3</th>\n",
       "      <td>13</td>\n",
       "      <td>5</td>\n",
       "      <td>325</td>\n",
       "      <td>0.015385</td>\n",
       "    </tr>\n",
       "    <tr>\n",
       "      <th>4</th>\n",
       "      <td>14</td>\n",
       "      <td>4</td>\n",
       "      <td>836</td>\n",
       "      <td>0.004785</td>\n",
       "    </tr>\n",
       "    <tr>\n",
       "      <th>...</th>\n",
       "      <td>...</td>\n",
       "      <td>...</td>\n",
       "      <td>...</td>\n",
       "      <td>...</td>\n",
       "    </tr>\n",
       "    <tr>\n",
       "      <th>67</th>\n",
       "      <td>83</td>\n",
       "      <td>1</td>\n",
       "      <td>1</td>\n",
       "      <td>1.000000</td>\n",
       "    </tr>\n",
       "    <tr>\n",
       "      <th>68</th>\n",
       "      <td>87</td>\n",
       "      <td>0</td>\n",
       "      <td>2</td>\n",
       "      <td>0.000000</td>\n",
       "    </tr>\n",
       "    <tr>\n",
       "      <th>69</th>\n",
       "      <td>88</td>\n",
       "      <td>1</td>\n",
       "      <td>2</td>\n",
       "      <td>0.500000</td>\n",
       "    </tr>\n",
       "    <tr>\n",
       "      <th>70</th>\n",
       "      <td>91</td>\n",
       "      <td>0</td>\n",
       "      <td>1</td>\n",
       "      <td>0.000000</td>\n",
       "    </tr>\n",
       "    <tr>\n",
       "      <th>71</th>\n",
       "      <td>95</td>\n",
       "      <td>0</td>\n",
       "      <td>2</td>\n",
       "      <td>0.000000</td>\n",
       "    </tr>\n",
       "  </tbody>\n",
       "</table>\n",
       "<p>72 rows × 4 columns</p>\n",
       "</div>"
      ],
      "text/plain": [
       "    BMI  sum  count      mean\n",
       "0    10    2     28  0.071429\n",
       "1    11    3     57  0.052632\n",
       "2    12    1    116  0.008621\n",
       "3    13    5    325  0.015385\n",
       "4    14    4    836  0.004785\n",
       "..  ...  ...    ...       ...\n",
       "67   83    1      1  1.000000\n",
       "68   87    0      2  0.000000\n",
       "69   88    1      2  0.500000\n",
       "70   91    0      1  0.000000\n",
       "71   95    0      2  0.000000\n",
       "\n",
       "[72 rows x 4 columns]"
      ]
     },
     "execution_count": 35,
     "metadata": {},
     "output_type": "execute_result"
    }
   ],
   "source": [
    "df.groupby('BMI')['Diagnosis'].agg(['sum','count','mean']).reset_index()"
   ]
  },
  {
   "cell_type": "code",
   "execution_count": 36,
   "id": "5e474a75",
   "metadata": {
    "execution": {
     "iopub.execute_input": "2024-03-31T15:29:54.697657Z",
     "iopub.status.busy": "2024-03-31T15:29:54.697132Z",
     "iopub.status.idle": "2024-03-31T15:29:54.703988Z",
     "shell.execute_reply": "2024-03-31T15:29:54.702533Z"
    },
    "papermill": {
     "duration": 0.0363,
     "end_time": "2024-03-31T15:29:54.706791",
     "exception": false,
     "start_time": "2024-03-31T15:29:54.670491",
     "status": "completed"
    },
    "tags": []
   },
   "outputs": [],
   "source": [
    "# condition to create categories according to BMI\n",
    "def condition_BMI(x):\n",
    "    if x >= 30:\n",
    "        return 1\n",
    "    else:\n",
    "        return 0"
   ]
  },
  {
   "cell_type": "code",
   "execution_count": 37,
   "id": "b328a059",
   "metadata": {
    "execution": {
     "iopub.execute_input": "2024-03-31T15:29:54.757925Z",
     "iopub.status.busy": "2024-03-31T15:29:54.757512Z",
     "iopub.status.idle": "2024-03-31T15:29:54.854092Z",
     "shell.execute_reply": "2024-03-31T15:29:54.853124Z"
    },
    "papermill": {
     "duration": 0.124818,
     "end_time": "2024-03-31T15:29:54.856682",
     "exception": false,
     "start_time": "2024-03-31T15:29:54.731864",
     "status": "completed"
    },
    "tags": []
   },
   "outputs": [
    {
     "data": {
      "text/html": [
       "<div>\n",
       "<style scoped>\n",
       "    .dataframe tbody tr th:only-of-type {\n",
       "        vertical-align: middle;\n",
       "    }\n",
       "\n",
       "    .dataframe tbody tr th {\n",
       "        vertical-align: top;\n",
       "    }\n",
       "\n",
       "    .dataframe thead th {\n",
       "        text-align: right;\n",
       "    }\n",
       "</style>\n",
       "<table border=\"1\" class=\"dataframe\">\n",
       "  <thead>\n",
       "    <tr style=\"text-align: right;\">\n",
       "      <th></th>\n",
       "      <th>Id</th>\n",
       "      <th>Age</th>\n",
       "      <th>Gender</th>\n",
       "      <th>BMI</th>\n",
       "      <th>High_BP</th>\n",
       "      <th>FBS</th>\n",
       "      <th>HbA1c_level</th>\n",
       "      <th>Smoking</th>\n",
       "      <th>Diagnosis</th>\n",
       "      <th>Female</th>\n",
       "      <th>Male</th>\n",
       "      <th>Other</th>\n",
       "      <th>Age_scaler</th>\n",
       "      <th>BMI_scaler</th>\n",
       "      <th>FBS_scaler</th>\n",
       "      <th>HbA1c_level_scaler</th>\n",
       "      <th>Age_range</th>\n",
       "      <th>BMI_range</th>\n",
       "    </tr>\n",
       "  </thead>\n",
       "  <tbody>\n",
       "    <tr>\n",
       "      <th>0</th>\n",
       "      <td>0</td>\n",
       "      <td>80</td>\n",
       "      <td>Female</td>\n",
       "      <td>25</td>\n",
       "      <td>0</td>\n",
       "      <td>140</td>\n",
       "      <td>6.6</td>\n",
       "      <td>0</td>\n",
       "      <td>0</td>\n",
       "      <td>1</td>\n",
       "      <td>0</td>\n",
       "      <td>0</td>\n",
       "      <td>1.027778</td>\n",
       "      <td>-0.285714</td>\n",
       "      <td>0.000000</td>\n",
       "      <td>0.571429</td>\n",
       "      <td>4</td>\n",
       "      <td>0</td>\n",
       "    </tr>\n",
       "    <tr>\n",
       "      <th>1</th>\n",
       "      <td>1</td>\n",
       "      <td>54</td>\n",
       "      <td>Female</td>\n",
       "      <td>27</td>\n",
       "      <td>0</td>\n",
       "      <td>80</td>\n",
       "      <td>6.6</td>\n",
       "      <td>0</td>\n",
       "      <td>0</td>\n",
       "      <td>1</td>\n",
       "      <td>0</td>\n",
       "      <td>0</td>\n",
       "      <td>0.305556</td>\n",
       "      <td>0.000000</td>\n",
       "      <td>-1.016949</td>\n",
       "      <td>0.571429</td>\n",
       "      <td>3</td>\n",
       "      <td>0</td>\n",
       "    </tr>\n",
       "    <tr>\n",
       "      <th>2</th>\n",
       "      <td>2</td>\n",
       "      <td>28</td>\n",
       "      <td>Male</td>\n",
       "      <td>27</td>\n",
       "      <td>0</td>\n",
       "      <td>158</td>\n",
       "      <td>5.7</td>\n",
       "      <td>0</td>\n",
       "      <td>0</td>\n",
       "      <td>0</td>\n",
       "      <td>1</td>\n",
       "      <td>0</td>\n",
       "      <td>-0.416667</td>\n",
       "      <td>0.000000</td>\n",
       "      <td>0.305085</td>\n",
       "      <td>-0.071429</td>\n",
       "      <td>2</td>\n",
       "      <td>0</td>\n",
       "    </tr>\n",
       "    <tr>\n",
       "      <th>3</th>\n",
       "      <td>3</td>\n",
       "      <td>36</td>\n",
       "      <td>Female</td>\n",
       "      <td>23</td>\n",
       "      <td>0</td>\n",
       "      <td>155</td>\n",
       "      <td>5.0</td>\n",
       "      <td>1</td>\n",
       "      <td>0</td>\n",
       "      <td>1</td>\n",
       "      <td>0</td>\n",
       "      <td>0</td>\n",
       "      <td>-0.194444</td>\n",
       "      <td>-0.571429</td>\n",
       "      <td>0.254237</td>\n",
       "      <td>-0.571429</td>\n",
       "      <td>3</td>\n",
       "      <td>0</td>\n",
       "    </tr>\n",
       "    <tr>\n",
       "      <th>4</th>\n",
       "      <td>4</td>\n",
       "      <td>76</td>\n",
       "      <td>Male</td>\n",
       "      <td>20</td>\n",
       "      <td>1</td>\n",
       "      <td>155</td>\n",
       "      <td>4.8</td>\n",
       "      <td>1</td>\n",
       "      <td>0</td>\n",
       "      <td>0</td>\n",
       "      <td>1</td>\n",
       "      <td>0</td>\n",
       "      <td>0.916667</td>\n",
       "      <td>-1.000000</td>\n",
       "      <td>0.254237</td>\n",
       "      <td>-0.714286</td>\n",
       "      <td>4</td>\n",
       "      <td>0</td>\n",
       "    </tr>\n",
       "    <tr>\n",
       "      <th>...</th>\n",
       "      <td>...</td>\n",
       "      <td>...</td>\n",
       "      <td>...</td>\n",
       "      <td>...</td>\n",
       "      <td>...</td>\n",
       "      <td>...</td>\n",
       "      <td>...</td>\n",
       "      <td>...</td>\n",
       "      <td>...</td>\n",
       "      <td>...</td>\n",
       "      <td>...</td>\n",
       "      <td>...</td>\n",
       "      <td>...</td>\n",
       "      <td>...</td>\n",
       "      <td>...</td>\n",
       "      <td>...</td>\n",
       "      <td>...</td>\n",
       "      <td>...</td>\n",
       "    </tr>\n",
       "    <tr>\n",
       "      <th>88375</th>\n",
       "      <td>88375</td>\n",
       "      <td>17</td>\n",
       "      <td>Female</td>\n",
       "      <td>15</td>\n",
       "      <td>0</td>\n",
       "      <td>100</td>\n",
       "      <td>5.7</td>\n",
       "      <td>1</td>\n",
       "      <td>1</td>\n",
       "      <td>1</td>\n",
       "      <td>0</td>\n",
       "      <td>0</td>\n",
       "      <td>-0.722222</td>\n",
       "      <td>-1.714286</td>\n",
       "      <td>-0.677966</td>\n",
       "      <td>-0.071429</td>\n",
       "      <td>1</td>\n",
       "      <td>0</td>\n",
       "    </tr>\n",
       "    <tr>\n",
       "      <th>88376</th>\n",
       "      <td>88376</td>\n",
       "      <td>22</td>\n",
       "      <td>Male</td>\n",
       "      <td>19</td>\n",
       "      <td>0</td>\n",
       "      <td>120</td>\n",
       "      <td>6.4</td>\n",
       "      <td>1</td>\n",
       "      <td>1</td>\n",
       "      <td>0</td>\n",
       "      <td>1</td>\n",
       "      <td>0</td>\n",
       "      <td>-0.583333</td>\n",
       "      <td>-1.142857</td>\n",
       "      <td>-0.338983</td>\n",
       "      <td>0.428571</td>\n",
       "      <td>2</td>\n",
       "      <td>0</td>\n",
       "    </tr>\n",
       "    <tr>\n",
       "      <th>88377</th>\n",
       "      <td>88377</td>\n",
       "      <td>27</td>\n",
       "      <td>Female</td>\n",
       "      <td>24</td>\n",
       "      <td>1</td>\n",
       "      <td>140</td>\n",
       "      <td>7.1</td>\n",
       "      <td>1</td>\n",
       "      <td>1</td>\n",
       "      <td>1</td>\n",
       "      <td>0</td>\n",
       "      <td>0</td>\n",
       "      <td>-0.444444</td>\n",
       "      <td>-0.428571</td>\n",
       "      <td>0.000000</td>\n",
       "      <td>0.928571</td>\n",
       "      <td>2</td>\n",
       "      <td>0</td>\n",
       "    </tr>\n",
       "    <tr>\n",
       "      <th>88378</th>\n",
       "      <td>88378</td>\n",
       "      <td>32</td>\n",
       "      <td>Male</td>\n",
       "      <td>29</td>\n",
       "      <td>1</td>\n",
       "      <td>160</td>\n",
       "      <td>7.8</td>\n",
       "      <td>1</td>\n",
       "      <td>1</td>\n",
       "      <td>0</td>\n",
       "      <td>1</td>\n",
       "      <td>0</td>\n",
       "      <td>-0.305556</td>\n",
       "      <td>0.285714</td>\n",
       "      <td>0.338983</td>\n",
       "      <td>1.428571</td>\n",
       "      <td>3</td>\n",
       "      <td>0</td>\n",
       "    </tr>\n",
       "    <tr>\n",
       "      <th>88379</th>\n",
       "      <td>88379</td>\n",
       "      <td>37</td>\n",
       "      <td>Female</td>\n",
       "      <td>34</td>\n",
       "      <td>1</td>\n",
       "      <td>180</td>\n",
       "      <td>8.5</td>\n",
       "      <td>1</td>\n",
       "      <td>1</td>\n",
       "      <td>1</td>\n",
       "      <td>0</td>\n",
       "      <td>0</td>\n",
       "      <td>-0.166667</td>\n",
       "      <td>1.000000</td>\n",
       "      <td>0.677966</td>\n",
       "      <td>1.928571</td>\n",
       "      <td>3</td>\n",
       "      <td>1</td>\n",
       "    </tr>\n",
       "  </tbody>\n",
       "</table>\n",
       "<p>88380 rows × 18 columns</p>\n",
       "</div>"
      ],
      "text/plain": [
       "          Id  Age  Gender  BMI  High_BP  FBS  HbA1c_level  Smoking  Diagnosis  \\\n",
       "0          0   80  Female   25        0  140          6.6        0          0   \n",
       "1          1   54  Female   27        0   80          6.6        0          0   \n",
       "2          2   28    Male   27        0  158          5.7        0          0   \n",
       "3          3   36  Female   23        0  155          5.0        1          0   \n",
       "4          4   76    Male   20        1  155          4.8        1          0   \n",
       "...      ...  ...     ...  ...      ...  ...          ...      ...        ...   \n",
       "88375  88375   17  Female   15        0  100          5.7        1          1   \n",
       "88376  88376   22    Male   19        0  120          6.4        1          1   \n",
       "88377  88377   27  Female   24        1  140          7.1        1          1   \n",
       "88378  88378   32    Male   29        1  160          7.8        1          1   \n",
       "88379  88379   37  Female   34        1  180          8.5        1          1   \n",
       "\n",
       "       Female  Male  Other  Age_scaler  BMI_scaler  FBS_scaler  \\\n",
       "0           1     0      0    1.027778   -0.285714    0.000000   \n",
       "1           1     0      0    0.305556    0.000000   -1.016949   \n",
       "2           0     1      0   -0.416667    0.000000    0.305085   \n",
       "3           1     0      0   -0.194444   -0.571429    0.254237   \n",
       "4           0     1      0    0.916667   -1.000000    0.254237   \n",
       "...       ...   ...    ...         ...         ...         ...   \n",
       "88375       1     0      0   -0.722222   -1.714286   -0.677966   \n",
       "88376       0     1      0   -0.583333   -1.142857   -0.338983   \n",
       "88377       1     0      0   -0.444444   -0.428571    0.000000   \n",
       "88378       0     1      0   -0.305556    0.285714    0.338983   \n",
       "88379       1     0      0   -0.166667    1.000000    0.677966   \n",
       "\n",
       "       HbA1c_level_scaler  Age_range  BMI_range  \n",
       "0                0.571429          4          0  \n",
       "1                0.571429          3          0  \n",
       "2               -0.071429          2          0  \n",
       "3               -0.571429          3          0  \n",
       "4               -0.714286          4          0  \n",
       "...                   ...        ...        ...  \n",
       "88375           -0.071429          1          0  \n",
       "88376            0.428571          2          0  \n",
       "88377            0.928571          2          0  \n",
       "88378            1.428571          3          0  \n",
       "88379            1.928571          3          1  \n",
       "\n",
       "[88380 rows x 18 columns]"
      ]
     },
     "execution_count": 37,
     "metadata": {},
     "output_type": "execute_result"
    }
   ],
   "source": [
    "#applying the condition\n",
    "df['BMI_range'] = df['BMI'].apply(condition_BMI)\n",
    "df"
   ]
  },
  {
   "cell_type": "code",
   "execution_count": 38,
   "id": "a4fd1a73",
   "metadata": {
    "execution": {
     "iopub.execute_input": "2024-03-31T15:29:54.910733Z",
     "iopub.status.busy": "2024-03-31T15:29:54.910298Z",
     "iopub.status.idle": "2024-03-31T15:29:54.928968Z",
     "shell.execute_reply": "2024-03-31T15:29:54.927996Z"
    },
    "papermill": {
     "duration": 0.04946,
     "end_time": "2024-03-31T15:29:54.931296",
     "exception": false,
     "start_time": "2024-03-31T15:29:54.881836",
     "status": "completed"
    },
    "tags": []
   },
   "outputs": [
    {
     "data": {
      "text/html": [
       "<div>\n",
       "<style scoped>\n",
       "    .dataframe tbody tr th:only-of-type {\n",
       "        vertical-align: middle;\n",
       "    }\n",
       "\n",
       "    .dataframe tbody tr th {\n",
       "        vertical-align: top;\n",
       "    }\n",
       "\n",
       "    .dataframe thead th {\n",
       "        text-align: right;\n",
       "    }\n",
       "</style>\n",
       "<table border=\"1\" class=\"dataframe\">\n",
       "  <thead>\n",
       "    <tr style=\"text-align: right;\">\n",
       "      <th></th>\n",
       "      <th>High_BP</th>\n",
       "      <th>Smoking</th>\n",
       "      <th>Female</th>\n",
       "      <th>Male</th>\n",
       "      <th>Other</th>\n",
       "      <th>FBS_scaler</th>\n",
       "      <th>HbA1c_level_scaler</th>\n",
       "      <th>Age_range</th>\n",
       "      <th>BMI_range</th>\n",
       "    </tr>\n",
       "  </thead>\n",
       "  <tbody>\n",
       "    <tr>\n",
       "      <th>0</th>\n",
       "      <td>0</td>\n",
       "      <td>0</td>\n",
       "      <td>1</td>\n",
       "      <td>0</td>\n",
       "      <td>0</td>\n",
       "      <td>0.000000</td>\n",
       "      <td>0.571429</td>\n",
       "      <td>4</td>\n",
       "      <td>0</td>\n",
       "    </tr>\n",
       "    <tr>\n",
       "      <th>1</th>\n",
       "      <td>0</td>\n",
       "      <td>0</td>\n",
       "      <td>1</td>\n",
       "      <td>0</td>\n",
       "      <td>0</td>\n",
       "      <td>-1.016949</td>\n",
       "      <td>0.571429</td>\n",
       "      <td>3</td>\n",
       "      <td>0</td>\n",
       "    </tr>\n",
       "    <tr>\n",
       "      <th>2</th>\n",
       "      <td>0</td>\n",
       "      <td>0</td>\n",
       "      <td>0</td>\n",
       "      <td>1</td>\n",
       "      <td>0</td>\n",
       "      <td>0.305085</td>\n",
       "      <td>-0.071429</td>\n",
       "      <td>2</td>\n",
       "      <td>0</td>\n",
       "    </tr>\n",
       "    <tr>\n",
       "      <th>3</th>\n",
       "      <td>0</td>\n",
       "      <td>1</td>\n",
       "      <td>1</td>\n",
       "      <td>0</td>\n",
       "      <td>0</td>\n",
       "      <td>0.254237</td>\n",
       "      <td>-0.571429</td>\n",
       "      <td>3</td>\n",
       "      <td>0</td>\n",
       "    </tr>\n",
       "    <tr>\n",
       "      <th>4</th>\n",
       "      <td>1</td>\n",
       "      <td>1</td>\n",
       "      <td>0</td>\n",
       "      <td>1</td>\n",
       "      <td>0</td>\n",
       "      <td>0.254237</td>\n",
       "      <td>-0.714286</td>\n",
       "      <td>4</td>\n",
       "      <td>0</td>\n",
       "    </tr>\n",
       "  </tbody>\n",
       "</table>\n",
       "</div>"
      ],
      "text/plain": [
       "   High_BP  Smoking  Female  Male  Other  FBS_scaler  HbA1c_level_scaler  \\\n",
       "0        0        0       1     0      0    0.000000            0.571429   \n",
       "1        0        0       1     0      0   -1.016949            0.571429   \n",
       "2        0        0       0     1      0    0.305085           -0.071429   \n",
       "3        0        1       1     0      0    0.254237           -0.571429   \n",
       "4        1        1       0     1      0    0.254237           -0.714286   \n",
       "\n",
       "   Age_range  BMI_range  \n",
       "0          4          0  \n",
       "1          3          0  \n",
       "2          2          0  \n",
       "3          3          0  \n",
       "4          4          0  "
      ]
     },
     "execution_count": 38,
     "metadata": {},
     "output_type": "execute_result"
    }
   ],
   "source": [
    "#creating an explanatory variable\n",
    "X = df.drop(['Id','Gender','Age','Age_scaler','BMI','BMI_scaler','FBS','HbA1c_level','Diagnosis'], axis=1)\n",
    "#creating a response variable\n",
    "y = df.Diagnosis\n",
    "X.head(5)"
   ]
  },
  {
   "cell_type": "markdown",
   "id": "018b4de5",
   "metadata": {
    "papermill": {
     "duration": 0.024676,
     "end_time": "2024-03-31T15:29:54.980978",
     "exception": false,
     "start_time": "2024-03-31T15:29:54.956302",
     "status": "completed"
    },
    "tags": []
   },
   "source": [
    "# **New training model again**\n",
    "> And again we will split our dataset, train the model, validate and analyze the results."
   ]
  },
  {
   "cell_type": "code",
   "execution_count": 39,
   "id": "330d9f12",
   "metadata": {
    "execution": {
     "iopub.execute_input": "2024-03-31T15:29:55.037285Z",
     "iopub.status.busy": "2024-03-31T15:29:55.036810Z",
     "iopub.status.idle": "2024-03-31T15:29:57.085892Z",
     "shell.execute_reply": "2024-03-31T15:29:57.083855Z"
    },
    "papermill": {
     "duration": 2.084506,
     "end_time": "2024-03-31T15:29:57.092675",
     "exception": false,
     "start_time": "2024-03-31T15:29:55.008169",
     "status": "completed"
    },
    "tags": []
   },
   "outputs": [
    {
     "name": "stdout",
     "output_type": "stream",
     "text": [
      "0.9619546000990029 0.9562972915635386 0.9516300120217807\n"
     ]
    }
   ],
   "source": [
    "#separating the dataset in training and test\n",
    "X_train, X_test, y_train, y_test = train_test_split(X, y, test_size=0.2, random_state=42)\n",
    "\n",
    "#separating the dataset in training and validation\n",
    "X_train, X_val, y_train, y_val = train_test_split(X_train, y_train, test_size=0.2, random_state=42)\n",
    "\n",
    "#fitting the train data\n",
    "clf_dt_temp = clf_dt.fit(X_train, y_train)\n",
    "clf_knn_temp = clf_knn.fit(X_train, y_train)\n",
    "clf_lr_temp = clf_lr.fit(X_train, y_train)\n",
    "\n",
    "#predicting the validation data\n",
    "y_pred_dt = clf_dt_temp.predict(X_val)\n",
    "y_pred_knn = clf_knn_temp.predict(X_val)\n",
    "y_pred_lr = clf_lr_temp.predict(X_val)\n",
    "\n",
    "#checking the accuracy of predictions\n",
    "accuracy_score_dt = accuracy_score(y_val, y_pred_dt)\n",
    "accuracy_score_knn = accuracy_score(y_val, y_pred_knn)\n",
    "accuracy_score_lr = accuracy_score(y_val, y_pred_lr)\n",
    "\n",
    "print(accuracy_score_dt, accuracy_score_knn, accuracy_score_lr)"
   ]
  },
  {
   "cell_type": "markdown",
   "id": "72948d8c",
   "metadata": {
    "papermill": {
     "duration": 0.045186,
     "end_time": "2024-03-31T15:29:57.192817",
     "exception": false,
     "start_time": "2024-03-31T15:29:57.147631",
     "status": "completed"
    },
    "tags": []
   },
   "source": [
    "# **Analyzing results 3**\n",
    "> In this last change, we had a considerable improvement in the Decision Tree, with the highest value found so far of 96%. I believe we can proceed to do our final test by applying this model to our test dataset."
   ]
  },
  {
   "cell_type": "code",
   "execution_count": 40,
   "id": "b3d9d654",
   "metadata": {
    "execution": {
     "iopub.execute_input": "2024-03-31T15:29:57.243908Z",
     "iopub.status.busy": "2024-03-31T15:29:57.243450Z",
     "iopub.status.idle": "2024-03-31T15:29:57.258741Z",
     "shell.execute_reply": "2024-03-31T15:29:57.257407Z"
    },
    "papermill": {
     "duration": 0.043834,
     "end_time": "2024-03-31T15:29:57.261511",
     "exception": false,
     "start_time": "2024-03-31T15:29:57.217677",
     "status": "completed"
    },
    "tags": []
   },
   "outputs": [
    {
     "data": {
      "text/html": [
       "<div>\n",
       "<style scoped>\n",
       "    .dataframe tbody tr th:only-of-type {\n",
       "        vertical-align: middle;\n",
       "    }\n",
       "\n",
       "    .dataframe tbody tr th {\n",
       "        vertical-align: top;\n",
       "    }\n",
       "\n",
       "    .dataframe thead th {\n",
       "        text-align: right;\n",
       "    }\n",
       "</style>\n",
       "<table border=\"1\" class=\"dataframe\">\n",
       "  <thead>\n",
       "    <tr style=\"text-align: right;\">\n",
       "      <th></th>\n",
       "      <th>Models</th>\n",
       "      <th>Initial</th>\n",
       "      <th>Age_range</th>\n",
       "      <th>BMI_morethan30</th>\n",
       "    </tr>\n",
       "  </thead>\n",
       "  <tbody>\n",
       "    <tr>\n",
       "      <th>0</th>\n",
       "      <td>DecisionTree</td>\n",
       "      <td>0.941023</td>\n",
       "      <td>0.951630</td>\n",
       "      <td>0.961955</td>\n",
       "    </tr>\n",
       "    <tr>\n",
       "      <th>1</th>\n",
       "      <td>KNN</td>\n",
       "      <td>0.955095</td>\n",
       "      <td>0.952337</td>\n",
       "      <td>0.956297</td>\n",
       "    </tr>\n",
       "    <tr>\n",
       "      <th>2</th>\n",
       "      <td>LogisticRegression</td>\n",
       "      <td>0.953822</td>\n",
       "      <td>0.952337</td>\n",
       "      <td>0.951630</td>\n",
       "    </tr>\n",
       "  </tbody>\n",
       "</table>\n",
       "</div>"
      ],
      "text/plain": [
       "               Models   Initial  Age_range  BMI_morethan30\n",
       "0        DecisionTree  0.941023   0.951630        0.961955\n",
       "1                 KNN  0.955095   0.952337        0.956297\n",
       "2  LogisticRegression  0.953822   0.952337        0.951630"
      ]
     },
     "execution_count": 40,
     "metadata": {},
     "output_type": "execute_result"
    }
   ],
   "source": [
    "#adding predicted values to the result dataset\n",
    "df_result['BMI_morethan30'] = [accuracy_score_dt, accuracy_score_knn, accuracy_score_lr]\n",
    "df_result"
   ]
  },
  {
   "cell_type": "markdown",
   "id": "f7226add",
   "metadata": {
    "papermill": {
     "duration": 0.02475,
     "end_time": "2024-03-31T15:29:57.311508",
     "exception": false,
     "start_time": "2024-03-31T15:29:57.286758",
     "status": "completed"
    },
    "tags": []
   },
   "source": [
    "# **Final results**\n",
    "> Applying the decision tree model to our test dataset"
   ]
  },
  {
   "cell_type": "code",
   "execution_count": 41,
   "id": "279b74c4",
   "metadata": {
    "execution": {
     "iopub.execute_input": "2024-03-31T15:29:57.368652Z",
     "iopub.status.busy": "2024-03-31T15:29:57.368174Z",
     "iopub.status.idle": "2024-03-31T15:29:57.379631Z",
     "shell.execute_reply": "2024-03-31T15:29:57.377885Z"
    },
    "papermill": {
     "duration": 0.044977,
     "end_time": "2024-03-31T15:29:57.382677",
     "exception": false,
     "start_time": "2024-03-31T15:29:57.337700",
     "status": "completed"
    },
    "tags": []
   },
   "outputs": [],
   "source": [
    "#predicting the test data (Decision Tree model)\n",
    "y_pred = clf_dt_temp.predict(X_test)"
   ]
  },
  {
   "cell_type": "code",
   "execution_count": 42,
   "id": "e013e38c",
   "metadata": {
    "execution": {
     "iopub.execute_input": "2024-03-31T15:29:57.436135Z",
     "iopub.status.busy": "2024-03-31T15:29:57.435021Z",
     "iopub.status.idle": "2024-03-31T15:29:57.445887Z",
     "shell.execute_reply": "2024-03-31T15:29:57.444345Z"
    },
    "papermill": {
     "duration": 0.040227,
     "end_time": "2024-03-31T15:29:57.448673",
     "exception": false,
     "start_time": "2024-03-31T15:29:57.408446",
     "status": "completed"
    },
    "tags": []
   },
   "outputs": [
    {
     "data": {
      "text/plain": [
       "0.9643584521384929"
      ]
     },
     "execution_count": 42,
     "metadata": {},
     "output_type": "execute_result"
    }
   ],
   "source": [
    "#checking the accuracy of prediction\n",
    "accuracy_score_y = accuracy_score(y_test, y_pred)\n",
    "accuracy_score_y"
   ]
  }
 ],
 "metadata": {
  "kaggle": {
   "accelerator": "none",
   "dataSources": [
    {
     "datasetId": 4522215,
     "sourceId": 7737595,
     "sourceType": "datasetVersion"
    }
   ],
   "dockerImageVersionId": 30673,
   "isGpuEnabled": false,
   "isInternetEnabled": true,
   "language": "python",
   "sourceType": "notebook"
  },
  "kernelspec": {
   "display_name": "Python 3",
   "language": "python",
   "name": "python3"
  },
  "language_info": {
   "codemirror_mode": {
    "name": "ipython",
    "version": 3
   },
   "file_extension": ".py",
   "mimetype": "text/x-python",
   "name": "python",
   "nbconvert_exporter": "python",
   "pygments_lexer": "ipython3",
   "version": "3.10.13"
  },
  "papermill": {
   "default_parameters": {},
   "duration": 19.206475,
   "end_time": "2024-03-31T15:29:58.400508",
   "environment_variables": {},
   "exception": null,
   "input_path": "__notebook__.ipynb",
   "output_path": "__notebook__.ipynb",
   "parameters": {},
   "start_time": "2024-03-31T15:29:39.194033",
   "version": "2.5.0"
  }
 },
 "nbformat": 4,
 "nbformat_minor": 5
}
